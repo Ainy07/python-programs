{
 "cells": [
  {
   "cell_type": "code",
   "execution_count": 1,
   "id": "602cb50d",
   "metadata": {},
   "outputs": [
    {
     "name": "stdout",
     "output_type": "stream",
     "text": [
      "h are repeat 2 times\n",
      "e are repeat 4 times\n",
      "l are repeat 3 times\n",
      "o are repeat 2 times\n",
      "  are repeat 4 times\n",
      "a are repeat 2 times\n",
      "r are repeat 2 times\n",
      "n are repeat 3 times\n"
     ]
    }
   ],
   "source": [
    "s='hello we are learning python'\n",
    "b=[]\n",
    "for i in range(0,len(s)):\n",
    "    if s.count(s[i])>1 and s[i] not in b:\n",
    "        print(s[i],'are repeat',s.count(s[i]),'times')\n",
    "        b.append(s[i])"
   ]
  }
 ],
 "metadata": {
  "kernelspec": {
   "display_name": "Python 3 (ipykernel)",
   "language": "python",
   "name": "python3"
  },
  "language_info": {
   "codemirror_mode": {
    "name": "ipython",
    "version": 3
   },
   "file_extension": ".py",
   "mimetype": "text/x-python",
   "name": "python",
   "nbconvert_exporter": "python",
   "pygments_lexer": "ipython3",
   "version": "3.9.12"
  }
 },
 "nbformat": 4,
 "nbformat_minor": 5
}
