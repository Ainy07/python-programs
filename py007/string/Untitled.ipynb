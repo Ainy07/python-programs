{
 "cells": [
  {
   "cell_type": "code",
   "execution_count": 3,
   "id": "01a67e17",
   "metadata": {},
   "outputs": [
    {
     "name": "stdout",
     "output_type": "stream",
     "text": [
      "hello\n",
      "hello\n",
      "hello\n",
      "hello\n"
     ]
    }
   ],
   "source": [
    "a=\"hello\"\n",
    "print(a)\n",
    "b='hello'\n",
    "print(b)\n",
    "c='''hello''' \n",
    "print(c)\n",
    "a=str('hello')\n",
    "print(a)"
   ]
  },
  {
   "cell_type": "code",
   "execution_count": null,
   "id": "4c3c1cf2",
   "metadata": {},
   "outputs": [],
   "source": [
    "a='hello'\n",
    "b='hello'\n",
    "c='python'\n",
    "print(a==b)\n",
    "print(a==c)\n",
    "print(a is b)\n",
    "print(a is c)\n",
    "print(a is not b)\n",
    "print(a is not c)"
   ]
  }
 ],
 "metadata": {
  "kernelspec": {
   "display_name": "Python 3 (ipykernel)",
   "language": "python",
   "name": "python3"
  },
  "language_info": {
   "codemirror_mode": {
    "name": "ipython",
    "version": 3
   },
   "file_extension": ".py",
   "mimetype": "text/x-python",
   "name": "python",
   "nbconvert_exporter": "python",
   "pygments_lexer": "ipython3",
   "version": "3.9.12"
  }
 },
 "nbformat": 4,
 "nbformat_minor": 5
}
