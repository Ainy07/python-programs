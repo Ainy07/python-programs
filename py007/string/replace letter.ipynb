{
 "cells": [
  {
   "cell_type": "code",
   "execution_count": 13,
   "id": "19bfb76d",
   "metadata": {},
   "outputs": [
    {
     "name": "stdout",
     "output_type": "stream",
     "text": [
      "rrishna kaj\n"
     ]
    }
   ],
   "source": [
    "s=\"krishna raj\"\n",
    "txt=s.replace(\"k\",\"r\")\n",
    "txt=txt.replace(\" r\",\" k\")  \n",
    "print(txt)"
   ]
  },
  {
   "cell_type": "code",
   "execution_count": 12,
   "id": "95151602",
   "metadata": {},
   "outputs": [
    {
     "name": "stdout",
     "output_type": "stream",
     "text": [
      "jjjy\n"
     ]
    }
   ],
   "source": [
    "s=\"ajay jain\"\n",
    "l=s.split()\n",
    "txt=l[0].replace(\"a\",\"j\")\n",
    "#txt=l[0].replace(\" j\",\" a\")\n",
    "print(txt)\n",
    "\n",
    "#jjay aain"
   ]
  },
  {
   "cell_type": "code",
   "execution_count": 32,
   "id": "96a86665",
   "metadata": {},
   "outputs": [
    {
     "name": "stdout",
     "output_type": "stream",
     "text": [
      "pithlesh mal\n"
     ]
    }
   ],
   "source": [
    "s=\"mithlesh pal\"\n",
    "txt=s.replace(\"m\",\"p\")\n",
    "txt=txt.replace(\" p\",\" m\")\n",
    "print(txt)\n"
   ]
  },
  {
   "cell_type": "code",
   "execution_count": null,
   "id": "aea3aa43",
   "metadata": {},
   "outputs": [],
   "source": []
  }
 ],
 "metadata": {
  "kernelspec": {
   "display_name": "Python 3 (ipykernel)",
   "language": "python",
   "name": "python3"
  },
  "language_info": {
   "codemirror_mode": {
    "name": "ipython",
    "version": 3
   },
   "file_extension": ".py",
   "mimetype": "text/x-python",
   "name": "python",
   "nbconvert_exporter": "python",
   "pygments_lexer": "ipython3",
   "version": "3.9.12"
  }
 },
 "nbformat": 4,
 "nbformat_minor": 5
}
