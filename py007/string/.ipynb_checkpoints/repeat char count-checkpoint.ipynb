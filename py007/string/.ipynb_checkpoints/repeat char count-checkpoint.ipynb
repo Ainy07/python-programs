{
 "cells": [
  {
   "cell_type": "code",
   "execution_count": null,
   "id": "6f920b75",
   "metadata": {},
   "outputs": [],
   "source": [
    "s='hello we are learning python'\n",
    "b=[]\n",
    "for i in range(0,len(s)):\n",
    "    if s.count(s[i])>1 and s[i] not in b:\n",
    "        print(s[i],'are repeat',s.count(s[i]),'times')\n",
    "        b.append(s[i])"
   ]
  }
 ],
 "metadata": {
  "kernelspec": {
   "display_name": "Python 3 (ipykernel)",
   "language": "python",
   "name": "python3"
  },
  "language_info": {
   "codemirror_mode": {
    "name": "ipython",
    "version": 3
   },
   "file_extension": ".py",
   "mimetype": "text/x-python",
   "name": "python",
   "nbconvert_exporter": "python",
   "pygments_lexer": "ipython3",
   "version": "3.9.12"
  }
 },
 "nbformat": 4,
 "nbformat_minor": 5
}
