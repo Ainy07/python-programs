{
 "cells": [
  {
   "cell_type": "code",
   "execution_count": 1,
   "id": "f431a90b",
   "metadata": {},
   "outputs": [
    {
     "name": "stdout",
     "output_type": "stream",
     "text": [
      "C:\\Users\\91756\\py007\\module\\system define module\n"
     ]
    }
   ],
   "source": [
    "import os\n",
    "print(os.getcwd())"
   ]
  },
  {
   "cell_type": "code",
   "execution_count": 6,
   "id": "afa4462e",
   "metadata": {},
   "outputs": [
    {
     "name": "stdout",
     "output_type": "stream",
     "text": [
      "D:\\react\n"
     ]
    }
   ],
   "source": [
    "import os\n",
    "os.chdir(\"D:\\\\react\\\\\")\n",
    "print(os.getcwd())"
   ]
  },
  {
   "cell_type": "code",
   "execution_count": 13,
   "id": "508768c4",
   "metadata": {},
   "outputs": [],
   "source": [
    "import os\n",
    "os.mkdir(\"D:\\\\a\")"
   ]
  },
  {
   "cell_type": "code",
   "execution_count": 12,
   "id": "4b79f2a8",
   "metadata": {},
   "outputs": [],
   "source": [
    "import os\n",
    "os.remove(\"D:\\\\a\\\\abc.txt\")"
   ]
  },
  {
   "cell_type": "code",
   "execution_count": null,
   "id": "aefd018b",
   "metadata": {},
   "outputs": [],
   "source": [
    "import os\n",
    "os.rmdir(\"D:\\\\a\")"
   ]
  }
 ],
 "metadata": {
  "kernelspec": {
   "display_name": "Python 3 (ipykernel)",
   "language": "python",
   "name": "python3"
  },
  "language_info": {
   "codemirror_mode": {
    "name": "ipython",
    "version": 3
   },
   "file_extension": ".py",
   "mimetype": "text/x-python",
   "name": "python",
   "nbconvert_exporter": "python",
   "pygments_lexer": "ipython3",
   "version": "3.9.12"
  }
 },
 "nbformat": 4,
 "nbformat_minor": 5
}
