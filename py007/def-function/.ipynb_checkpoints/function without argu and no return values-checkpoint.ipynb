{
 "cells": [
  {
   "cell_type": "code",
   "execution_count": 5,
   "id": "984187b6",
   "metadata": {},
   "outputs": [
    {
     "name": "stdout",
     "output_type": "stream",
     "text": [
      "yesh\n",
      "programmers point\n",
      "address\n",
      "programmers point vijay nagar indore\n",
      "programmers point bhawarkuaa indore\n",
      "ujjain\n",
      "ajay\n",
      "programmers point\n",
      "address\n",
      "programmers point vijay nagar indore\n",
      "programmers point bhawarkuaa indore\n",
      "ujjain\n"
     ]
    }
   ],
   "source": [
    "def intro():\n",
    "    print(\"programmers point\")\n",
    "    print(\"address\")\n",
    "    print(\"programmers point vijay nagar indore\")\n",
    "    print(\"programmers point bhawarkuaa indore\")\n",
    "    print(\"ujjain\")\n",
    "print(\"yesh\")\n",
    "intro()\n",
    "print(\"ajay\")\n",
    "intro()\n",
    "print(\"ainy\")\n",
    "intro()\n",
    "    "
   ]
  }
 ],
 "metadata": {
  "kernelspec": {
   "display_name": "Python 3 (ipykernel)",
   "language": "python",
   "name": "python3"
  },
  "language_info": {
   "codemirror_mode": {
    "name": "ipython",
    "version": 3
   },
   "file_extension": ".py",
   "mimetype": "text/x-python",
   "name": "python",
   "nbconvert_exporter": "python",
   "pygments_lexer": "ipython3",
   "version": "3.9.12"
  }
 },
 "nbformat": 4,
 "nbformat_minor": 5
}
