{
 "cells": [
  {
   "cell_type": "code",
   "execution_count": 4,
   "id": "be79c825",
   "metadata": {},
   "outputs": [
    {
     "name": "stdout",
     "output_type": "stream",
     "text": [
      "216\n"
     ]
    }
   ],
   "source": [
    "def cube(n):\n",
    "    return n**3\n",
    "# i=cube(5)\n",
    "# print(i)\n",
    "print(cube(6))"
   ]
  },
  {
   "cell_type": "code",
   "execution_count": null,
   "id": "51f61548",
   "metadata": {},
   "outputs": [],
   "source": [
    "calling place of function\n",
    "\n",
    "when a function will return value then value to post to calling place of function"
   ]
  }
 ],
 "metadata": {
  "kernelspec": {
   "display_name": "Python 3 (ipykernel)",
   "language": "python",
   "name": "python3"
  },
  "language_info": {
   "codemirror_mode": {
    "name": "ipython",
    "version": 3
   },
   "file_extension": ".py",
   "mimetype": "text/x-python",
   "name": "python",
   "nbconvert_exporter": "python",
   "pygments_lexer": "ipython3",
   "version": "3.9.12"
  }
 },
 "nbformat": 4,
 "nbformat_minor": 5
}
