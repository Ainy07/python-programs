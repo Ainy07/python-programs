{
 "cells": [
  {
   "cell_type": "code",
   "execution_count": 3,
   "id": "7b244ae9",
   "metadata": {},
   "outputs": [
    {
     "name": "stdout",
     "output_type": "stream",
     "text": [
      "factorial of 5 is 120\n",
      "please enter valid inputs\n"
     ]
    }
   ],
   "source": [
    "def fact(n):\n",
    "    if type(n)==int:\n",
    "        f=1\n",
    "        for i in range(1,n+1):\n",
    "            f=f*i\n",
    "        print('factorial of',n,'is',f)\n",
    "    else:\n",
    "        print('please enter valid inputs')\n",
    "\n",
    "fact(5)\n",
    "\n",
    "fact('hello')"
   ]
  }
 ],
 "metadata": {
  "kernelspec": {
   "display_name": "Python 3 (ipykernel)",
   "language": "python",
   "name": "python3"
  },
  "language_info": {
   "codemirror_mode": {
    "name": "ipython",
    "version": 3
   },
   "file_extension": ".py",
   "mimetype": "text/x-python",
   "name": "python",
   "nbconvert_exporter": "python",
   "pygments_lexer": "ipython3",
   "version": "3.9.12"
  }
 },
 "nbformat": 4,
 "nbformat_minor": 5
}
