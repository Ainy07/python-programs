{
 "cells": [
  {
   "cell_type": "code",
   "execution_count": 2,
   "id": "a07b8add",
   "metadata": {},
   "outputs": [
    {
     "name": "stdout",
     "output_type": "stream",
     "text": [
      "show is running from demo\n",
      "add is 30\n",
      "sub is 10\n",
      "mul is 200\n",
      "div is 2.0\n"
     ]
    }
   ],
   "source": [
    "class calculator:\n",
    "    def add(self,a,b):\n",
    "        print('add is',a+b)\n",
    "    def sub(self,a,b):\n",
    "        print('sub is',a-b)\n",
    "    def mul(self, a, b):\n",
    "        print('mul is', a*b)\n",
    "    def div(self,a,b):\n",
    "        print('div is',a/b)\n",
    "class Demo(calculator):\n",
    "    def show(self):\n",
    "        print('show is running from demo')\n",
    "d=Demo()\n",
    "d.show()\n",
    "d.add(10,20)\n",
    "d.sub(20,10)\n",
    "d.mul(20,10)\n",
    "d.div(20,10)\n",
    "    "
   ]
  },
  {
   "cell_type": "code",
   "execution_count": null,
   "id": "7cc63254",
   "metadata": {},
   "outputs": [],
   "source": []
  }
 ],
 "metadata": {
  "kernelspec": {
   "display_name": "Python 3 (ipykernel)",
   "language": "python",
   "name": "python3"
  },
  "language_info": {
   "codemirror_mode": {
    "name": "ipython",
    "version": 3
   },
   "file_extension": ".py",
   "mimetype": "text/x-python",
   "name": "python",
   "nbconvert_exporter": "python",
   "pygments_lexer": "ipython3",
   "version": "3.9.12"
  }
 },
 "nbformat": 4,
 "nbformat_minor": 5
}
