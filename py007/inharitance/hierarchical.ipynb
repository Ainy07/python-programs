{
 "cells": [
  {
   "cell_type": "code",
   "execution_count": 1,
   "id": "03063ecf",
   "metadata": {},
   "outputs": [
    {
     "name": "stdout",
     "output_type": "stream",
     "text": [
      "show is running from demo\n",
      "welcome to base\n",
      "show is running from dummy\n",
      "welcome to base\n"
     ]
    }
   ],
   "source": [
    "class Base:\n",
    "    def welcome(self):\n",
    "        print('welcome to base')\n",
    "class Demo(Base):\n",
    "    def show(self):\n",
    "        print('show is running from demo')\n",
    "class Dummy(Base):\n",
    "    def show(self):\n",
    "        print('show is running from dummy')\n",
    "d=Demo()\n",
    "d.show()\n",
    "d.welcome()\n",
    "d1=Dummy()\n",
    "d1.show()\n",
    "d1.welcome()"
   ]
  },
  {
   "cell_type": "code",
   "execution_count": null,
   "id": "49c06482",
   "metadata": {},
   "outputs": [],
   "source": []
  }
 ],
 "metadata": {
  "kernelspec": {
   "display_name": "Python 3 (ipykernel)",
   "language": "python",
   "name": "python3"
  },
  "language_info": {
   "codemirror_mode": {
    "name": "ipython",
    "version": 3
   },
   "file_extension": ".py",
   "mimetype": "text/x-python",
   "name": "python",
   "nbconvert_exporter": "python",
   "pygments_lexer": "ipython3",
   "version": "3.9.12"
  }
 },
 "nbformat": 4,
 "nbformat_minor": 5
}
