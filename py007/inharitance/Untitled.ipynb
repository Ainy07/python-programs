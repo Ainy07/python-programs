{
 "cells": [
  {
   "cell_type": "code",
   "execution_count": 1,
   "id": "93b39eb4",
   "metadata": {},
   "outputs": [
    {
     "name": "stdout",
     "output_type": "stream",
     "text": [
      "getinfo of Bbase is running\n",
      "show is running from dummy\n",
      "welcome to base\n",
      "display is running from Demo\n"
     ]
    }
   ],
   "source": [
    "class Bbase:\n",
    "    def getInfo(self):\n",
    "        print('getinfo of Bbase is running')\n",
    "class Base(Bbase):\n",
    "    def welcome(self):\n",
    "        print('welcome to base')\n",
    "class Demo(Bbase):\n",
    "    def display(self):\n",
    "        print('display is running from Demo')\n",
    "class Dummy(Base,Demo):\n",
    "    def show(self):\n",
    "        print('show is running from dummy')\n",
    "d=Dummy()\n",
    "d.getInfo()\n",
    "d.show()\n",
    "d.welcome()\n",
    "d.display()"
   ]
  },
  {
   "cell_type": "code",
   "execution_count": null,
   "id": "191d8fe6",
   "metadata": {},
   "outputs": [],
   "source": []
  }
 ],
 "metadata": {
  "kernelspec": {
   "display_name": "Python 3 (ipykernel)",
   "language": "python",
   "name": "python3"
  },
  "language_info": {
   "codemirror_mode": {
    "name": "ipython",
    "version": 3
   },
   "file_extension": ".py",
   "mimetype": "text/x-python",
   "name": "python",
   "nbconvert_exporter": "python",
   "pygments_lexer": "ipython3",
   "version": "3.9.12"
  }
 },
 "nbformat": 4,
 "nbformat_minor": 5
}
