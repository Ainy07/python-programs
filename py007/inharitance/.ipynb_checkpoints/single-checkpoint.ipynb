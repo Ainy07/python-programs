{
 "cells": [
  {
   "cell_type": "code",
   "execution_count": 1,
   "id": "4d898c73",
   "metadata": {},
   "outputs": [
    {
     "name": "stdout",
     "output_type": "stream",
     "text": [
      "show is running from Demo\n"
     ]
    },
    {
     "ename": "TypeError",
     "evalue": "add() takes 1 positional argument but 3 were given",
     "output_type": "error",
     "traceback": [
      "\u001b[1;31m---------------------------------------------------------------------------\u001b[0m",
      "\u001b[1;31mTypeError\u001b[0m                                 Traceback (most recent call last)",
      "Input \u001b[1;32mIn [1]\u001b[0m, in \u001b[0;36m<cell line: 15>\u001b[1;34m()\u001b[0m\n\u001b[0;32m     13\u001b[0m d\u001b[38;5;241m=\u001b[39mDemo()\n\u001b[0;32m     14\u001b[0m d\u001b[38;5;241m.\u001b[39mshow()\n\u001b[1;32m---> 15\u001b[0m \u001b[43md\u001b[49m\u001b[38;5;241;43m.\u001b[39;49m\u001b[43madd\u001b[49m\u001b[43m(\u001b[49m\u001b[38;5;241;43m10\u001b[39;49m\u001b[43m,\u001b[49m\u001b[38;5;241;43m20\u001b[39;49m\u001b[43m)\u001b[49m\n\u001b[0;32m     16\u001b[0m d\u001b[38;5;241m.\u001b[39msub(\u001b[38;5;241m20\u001b[39m,\u001b[38;5;241m10\u001b[39m)\n\u001b[0;32m     17\u001b[0m d\u001b[38;5;241m.\u001b[39mmul(\u001b[38;5;241m10\u001b[39m,\u001b[38;5;241m20\u001b[39m)\n",
      "\u001b[1;31mTypeError\u001b[0m: add() takes 1 positional argument but 3 were given"
     ]
    }
   ],
   "source": [
    "class calculator:\n",
    "    def add(self,a,b):\n",
    "        print('add is',a+b)\n",
    "    def sub(self,a,b):\n",
    "        print('sub is',a-b)\n",
    "    def mul(self, a, b):\n",
    "        print('mul is', a*b)\n",
    "    def div(self,a,b):\n",
    "        print('div is',a/b)\n",
    "class Demo(calculator):\n",
    "    def show(self):\n",
    "        print('show is running from demo')\n",
    "d=Demo()\n",
    "d.show()\n",
    "d.add(10,20)\n",
    "d.sub(20,10)\n",
    "d.mul(20,10)\n",
    "d.div(20,10)\n",
    "    "
   ]
  },
  {
   "cell_type": "code",
   "execution_count": null,
   "id": "20876619",
   "metadata": {},
   "outputs": [],
   "source": []
  }
 ],
 "metadata": {
  "kernelspec": {
   "display_name": "Python 3 (ipykernel)",
   "language": "python",
   "name": "python3"
  },
  "language_info": {
   "codemirror_mode": {
    "name": "ipython",
    "version": 3
   },
   "file_extension": ".py",
   "mimetype": "text/x-python",
   "name": "python",
   "nbconvert_exporter": "python",
   "pygments_lexer": "ipython3",
   "version": "3.9.12"
  }
 },
 "nbformat": 4,
 "nbformat_minor": 5
}
