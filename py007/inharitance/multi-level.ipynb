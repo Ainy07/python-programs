{
 "cells": [
  {
   "cell_type": "code",
   "execution_count": 1,
   "id": "9dba8c9f",
   "metadata": {},
   "outputs": [
    {
     "name": "stdout",
     "output_type": "stream",
     "text": [
      "show is running from Demo\n",
      "square is 25\n",
      "cube is 343\n",
      "add is 5\n",
      "sub is 6\n",
      "mul is 10\n",
      "div is 6.0\n"
     ]
    }
   ],
   "source": [
    "class calculator:\n",
    "    def add(self,a,b):\n",
    "        print('add is',a+b)\n",
    "    def sub(self,a,b):\n",
    "        print('sub is',a-b)\n",
    "    def mul(self,a,b):\n",
    "        print('mul is',a*b)\n",
    "    def div(self,a,b):\n",
    "        print('div is',a/b)\n",
    "class Scalculator(calculator):\n",
    "    def square(self,n):\n",
    "        print('square is',n**2)\n",
    "    def cube(self,n):\n",
    "        print('cube is',n**3)\n",
    "class Demo(Scalculator):\n",
    "    def show(self):\n",
    "        print('show is running from Demo')\n",
    "d=Demo()\n",
    "d.show()\n",
    "d.square(5)\n",
    "d.cube(7)\n",
    "d.add(2,3)\n",
    "d.sub(9,3)\n",
    "d.mul(2,5)\n",
    "d.div(12,2)"
   ]
  },
  {
   "cell_type": "code",
   "execution_count": null,
   "id": "6be51554",
   "metadata": {},
   "outputs": [],
   "source": []
  }
 ],
 "metadata": {
  "kernelspec": {
   "display_name": "Python 3 (ipykernel)",
   "language": "python",
   "name": "python3"
  },
  "language_info": {
   "codemirror_mode": {
    "name": "ipython",
    "version": 3
   },
   "file_extension": ".py",
   "mimetype": "text/x-python",
   "name": "python",
   "nbconvert_exporter": "python",
   "pygments_lexer": "ipython3",
   "version": "3.9.12"
  }
 },
 "nbformat": 4,
 "nbformat_minor": 5
}
