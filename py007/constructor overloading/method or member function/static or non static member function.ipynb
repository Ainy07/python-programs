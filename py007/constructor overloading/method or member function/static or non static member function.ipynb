{
 "cells": [
  {
   "cell_type": "code",
   "execution_count": 9,
   "id": "37732a0b",
   "metadata": {},
   "outputs": [
    {
     "name": "stdout",
     "output_type": "stream",
     "text": [
      "static show is running\n",
      "non static show is running\n"
     ]
    }
   ],
   "source": [
    "class Demo:\n",
    "    def show():\n",
    "        print(\"static show is running\")\n",
    "    def display(self):\n",
    "        print(\"non static show is running\")\n",
    "d=Demo()        \n",
    "Demo.show()\n",
    "#d.show()\n",
    "d.display()\n",
    "#Demo.display()"
   ]
  },
  {
   "cell_type": "code",
   "execution_count": null,
   "id": "8e8941c8",
   "metadata": {},
   "outputs": [],
   "source": []
  },
  {
   "cell_type": "code",
   "execution_count": null,
   "id": "8ff2b78b",
   "metadata": {},
   "outputs": [],
   "source": []
  },
  {
   "cell_type": "code",
   "execution_count": null,
   "id": "1ef28745",
   "metadata": {},
   "outputs": [],
   "source": []
  }
 ],
 "metadata": {
  "kernelspec": {
   "display_name": "Python 3 (ipykernel)",
   "language": "python",
   "name": "python3"
  },
  "language_info": {
   "codemirror_mode": {
    "name": "ipython",
    "version": 3
   },
   "file_extension": ".py",
   "mimetype": "text/x-python",
   "name": "python",
   "nbconvert_exporter": "python",
   "pygments_lexer": "ipython3",
   "version": "3.9.12"
  }
 },
 "nbformat": 4,
 "nbformat_minor": 5
}
