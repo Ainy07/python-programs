{
 "cells": [
  {
   "cell_type": "code",
   "execution_count": 1,
   "id": "4b8c3cca",
   "metadata": {},
   "outputs": [
    {
     "name": "stdout",
     "output_type": "stream",
     "text": [
      "{'a': 10}\n",
      "{'a': 10, 'b': 20}\n",
      "{'name': 'ainy', 'address': 'indore'}\n"
     ]
    }
   ],
   "source": [
    "class Demo:\n",
    "    def __init__(self,**args):\n",
    "        print(args)\n",
    "d=Demo(a=10)\n",
    "d=Demo(a=10,b=20)\n",
    "d=Demo(name=\"ainy\",address=\"indore\")"
   ]
  },
  {
   "cell_type": "code",
   "execution_count": null,
   "id": "b372947e",
   "metadata": {},
   "outputs": [],
   "source": []
  }
 ],
 "metadata": {
  "kernelspec": {
   "display_name": "Python 3 (ipykernel)",
   "language": "python",
   "name": "python3"
  },
  "language_info": {
   "codemirror_mode": {
    "name": "ipython",
    "version": 3
   },
   "file_extension": ".py",
   "mimetype": "text/x-python",
   "name": "python",
   "nbconvert_exporter": "python",
   "pygments_lexer": "ipython3",
   "version": "3.9.12"
  }
 },
 "nbformat": 4,
 "nbformat_minor": 5
}
