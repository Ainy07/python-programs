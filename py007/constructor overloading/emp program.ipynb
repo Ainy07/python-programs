{
 "cells": [
  {
   "cell_type": "code",
   "execution_count": 1,
   "id": "32d12c7b",
   "metadata": {},
   "outputs": [
    {
     "name": "stdout",
     "output_type": "stream",
     "text": [
      "101 ainy 250000\n",
      "102 saurav 280000\n"
     ]
    }
   ],
   "source": [
    "class Emp:\n",
    "    empno : int\n",
    "    ename : str\n",
    "    sal : int\n",
    "    def __init__(self,empno,ename,sal):\n",
    "        self.empno=empno\n",
    "        self.ename=ename\n",
    "        self.sal=sal\n",
    "    def show(self):\n",
    "        print(self.empno,self.ename,self.sal)\n",
    "e=Emp(101,'ainy',250000)\n",
    "e.show()\n",
    "e1=Emp(102,'saurav',280000)\n",
    "e1.show()"
   ]
  },
  {
   "cell_type": "code",
   "execution_count": null,
   "id": "e53cdb5a",
   "metadata": {},
   "outputs": [],
   "source": []
  }
 ],
 "metadata": {
  "kernelspec": {
   "display_name": "Python 3 (ipykernel)",
   "language": "python",
   "name": "python3"
  },
  "language_info": {
   "codemirror_mode": {
    "name": "ipython",
    "version": 3
   },
   "file_extension": ".py",
   "mimetype": "text/x-python",
   "name": "python",
   "nbconvert_exporter": "python",
   "pygments_lexer": "ipython3",
   "version": "3.9.12"
  }
 },
 "nbformat": 4,
 "nbformat_minor": 5
}
