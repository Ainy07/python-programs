{
 "cells": [
  {
   "cell_type": "code",
   "execution_count": 4,
   "id": "6f647eee",
   "metadata": {},
   "outputs": [
    {
     "name": "stdout",
     "output_type": "stream",
     "text": [
      "you are fine\n"
     ]
    }
   ],
   "source": [
    "import random \n",
    "a=random.random()\n",
    "a=a*100\n",
    "a=int(a)\n",
    "if a>=90 and a<=120:\n",
    "    print(\"you are fine\")\n",
    "else:\n",
    "    print(\"contect to dr\")"
   ]
  },
  {
   "cell_type": "code",
   "execution_count": null,
   "id": "34b2ae0b",
   "metadata": {},
   "outputs": [],
   "source": []
  }
 ],
 "metadata": {
  "kernelspec": {
   "display_name": "Python 3 (ipykernel)",
   "language": "python",
   "name": "python3"
  },
  "language_info": {
   "codemirror_mode": {
    "name": "ipython",
    "version": 3
   },
   "file_extension": ".py",
   "mimetype": "text/x-python",
   "name": "python",
   "nbconvert_exporter": "python",
   "pygments_lexer": "ipython3",
   "version": "3.9.12"
  }
 },
 "nbformat": 4,
 "nbformat_minor": 5
}
