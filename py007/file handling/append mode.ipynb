{
 "cells": [
  {
   "cell_type": "code",
   "execution_count": 2,
   "id": "840db9a9",
   "metadata": {},
   "outputs": [
    {
     "name": "stdout",
     "output_type": "stream",
     "text": [
      "enter file namea2.txt\n",
      "enter file datawe are learning python\n",
      "suceessfully written data into file\n"
     ]
    }
   ],
   "source": [
    "path=\"D://aa//\"\n",
    "fname=input(\"enter file name\")\n",
    "f=open(path+fname,\"a\")\n",
    "data=input(\"enter file data\")\n",
    "f.write(data)\n",
    "f.close()\n",
    "print(\"suceessfully written data into file\")"
   ]
  },
  {
   "cell_type": "code",
   "execution_count": null,
   "id": "ae13cacc",
   "metadata": {},
   "outputs": [],
   "source": []
  }
 ],
 "metadata": {
  "kernelspec": {
   "display_name": "Python 3 (ipykernel)",
   "language": "python",
   "name": "python3"
  },
  "language_info": {
   "codemirror_mode": {
    "name": "ipython",
    "version": 3
   },
   "file_extension": ".py",
   "mimetype": "text/x-python",
   "name": "python",
   "nbconvert_exporter": "python",
   "pygments_lexer": "ipython3",
   "version": "3.9.12"
  }
 },
 "nbformat": 4,
 "nbformat_minor": 5
}
