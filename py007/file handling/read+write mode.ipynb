{
 "cells": [
  {
   "cell_type": "code",
   "execution_count": 4,
   "id": "5c478d2f",
   "metadata": {},
   "outputs": [
    {
     "name": "stdout",
     "output_type": "stream",
     "text": [
      "enter file namea.txt\n",
      "enter file dataainy \n",
      "suceessfully written\n"
     ]
    }
   ],
   "source": [
    "path=\"D://aa//\"\n",
    "fname=input(\"enter file name\")\n",
    "f=None\n",
    "try:\n",
    "    f=open(path+fname,\"r\")\n",
    "    data=f.read()\n",
    "    print(data)\n",
    "except FileNotFoundError:\n",
    "    f=open(path+fname,\"w\")\n",
    "    data=input(\"enter file data\")\n",
    "    f.write(data)\n",
    "    f.close()\n",
    "    print(\"suceessfully written\")"
   ]
  },
  {
   "cell_type": "code",
   "execution_count": null,
   "id": "778135f2",
   "metadata": {},
   "outputs": [],
   "source": []
  },
  {
   "cell_type": "code",
   "execution_count": null,
   "id": "343d4917",
   "metadata": {},
   "outputs": [],
   "source": []
  }
 ],
 "metadata": {
  "kernelspec": {
   "display_name": "Python 3 (ipykernel)",
   "language": "python",
   "name": "python3"
  },
  "language_info": {
   "codemirror_mode": {
    "name": "ipython",
    "version": 3
   },
   "file_extension": ".py",
   "mimetype": "text/x-python",
   "name": "python",
   "nbconvert_exporter": "python",
   "pygments_lexer": "ipython3",
   "version": "3.9.12"
  }
 },
 "nbformat": 4,
 "nbformat_minor": 5
}
