{
 "cells": [
  {
   "cell_type": "code",
   "execution_count": null,
   "id": "0d8adf05",
   "metadata": {},
   "outputs": [],
   "source": [
    "import os\n",
    "path=\"D://aa//\"\n",
    "fname=input(\"enter file name\")\n",
    "f=None\n",
    "try:\n",
    "    f=open(path+fname,\"x\")\n",
    "    f.close()\n",
    "    print(\"file not exist\")\n",
    "except FileExistsError as e:\n",
    "    print(\"file remove suceessfully\")\n",
    "finally:\n",
    "    os.remove(path+fname)\n",
    "    \n",
    "    "
   ]
  },
  {
   "cell_type": "code",
   "execution_count": null,
   "id": "591b73a7",
   "metadata": {},
   "outputs": [],
   "source": []
  }
 ],
 "metadata": {
  "kernelspec": {
   "display_name": "Python 3 (ipykernel)",
   "language": "python",
   "name": "python3"
  },
  "language_info": {
   "codemirror_mode": {
    "name": "ipython",
    "version": 3
   },
   "file_extension": ".py",
   "mimetype": "text/x-python",
   "name": "python",
   "nbconvert_exporter": "python",
   "pygments_lexer": "ipython3",
   "version": "3.9.12"
  }
 },
 "nbformat": 4,
 "nbformat_minor": 5
}
