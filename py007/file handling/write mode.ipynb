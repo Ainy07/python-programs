{
 "cells": [
  {
   "cell_type": "code",
   "execution_count": 1,
   "id": "b6714e65",
   "metadata": {},
   "outputs": [
    {
     "name": "stdout",
     "output_type": "stream",
     "text": [
      "enter file namea1.txt\n",
      "enter file datahello\n",
      "suceessfully written data into file\n"
     ]
    }
   ],
   "source": [
    "path=\"D://aa//\"\n",
    "fname=input(\"enter file name\")\n",
    "f=open(path+fname,\"w\")\n",
    "data=input(\"enter file data\")\n",
    "f.write(data)\n",
    "f.close()\n",
    "print(\"suceessfully written data into file\")"
   ]
  },
  {
   "cell_type": "code",
   "execution_count": null,
   "id": "bc0862f1",
   "metadata": {},
   "outputs": [],
   "source": []
  }
 ],
 "metadata": {
  "kernelspec": {
   "display_name": "Python 3 (ipykernel)",
   "language": "python",
   "name": "python3"
  },
  "language_info": {
   "codemirror_mode": {
    "name": "ipython",
    "version": 3
   },
   "file_extension": ".py",
   "mimetype": "text/x-python",
   "name": "python",
   "nbconvert_exporter": "python",
   "pygments_lexer": "ipython3",
   "version": "3.9.12"
  }
 },
 "nbformat": 4,
 "nbformat_minor": 5
}
