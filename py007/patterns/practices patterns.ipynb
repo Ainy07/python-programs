{
 "cells": [
  {
   "cell_type": "code",
   "execution_count": 1,
   "id": "65c6717b",
   "metadata": {},
   "outputs": [
    {
     "name": "stdout",
     "output_type": "stream",
     "text": [
      "9 7 5 3 1 \n",
      "7 5 3 1 \n",
      "5 3 1 \n",
      "3 1 \n",
      "1 \n"
     ]
    }
   ],
   "source": [
    "for i in range(1,6):\n",
    "    for j in range(11-2*i,0,-2):\n",
    "        print(j,end=\" \")\n",
    "    print()    \n"
   ]
  },
  {
   "cell_type": "code",
   "execution_count": 8,
   "id": "196ef2b1",
   "metadata": {},
   "outputs": [
    {
     "name": "stdout",
     "output_type": "stream",
     "text": [
      "    *\n",
      "   **\n",
      "  ***\n",
      " ****\n",
      "*****\n"
     ]
    }
   ],
   "source": [
    "for i in range(1,6):\n",
    "    for k in range(1,6-i):\n",
    "        print(' ',end=\"\")\n",
    "    for j in range(1,i+1):\n",
    "        print('*',end=\"\")\n",
    "    print()    \n"
   ]
  },
  {
   "cell_type": "code",
   "execution_count": 9,
   "id": "1de5fb85",
   "metadata": {},
   "outputs": [
    {
     "name": "stdout",
     "output_type": "stream",
     "text": [
      "     *\n",
      "    * *\n",
      "   * * *\n",
      "  * * * *\n",
      " * * * * *\n"
     ]
    }
   ],
   "source": [
    "for i in range(1,6):\n",
    "    for k in range(1,6-i):\n",
    "        print(' ',end=\"\")\n",
    "    for j in range(1,i+1):\n",
    "        print(\" *\",end=\"\")\n",
    "    print()    "
   ]
  },
  {
   "cell_type": "code",
   "execution_count": 1,
   "id": "ea4d114a",
   "metadata": {},
   "outputs": [
    {
     "name": "stdout",
     "output_type": "stream",
     "text": [
      "    1\n",
      "   12\n",
      "  123\n",
      " 1234\n",
      "12345\n"
     ]
    }
   ],
   "source": [
    "for i in range(1,6):\n",
    "    for k in range(1,6-i):\n",
    "        print(' ',end=\"\")\n",
    "    for j in range(1,i+1):\n",
    "        print(j,end=\"\")\n",
    "    print()    "
   ]
  },
  {
   "cell_type": "code",
   "execution_count": 5,
   "id": "8353bf96",
   "metadata": {},
   "outputs": [
    {
     "name": "stdout",
     "output_type": "stream",
     "text": [
      "1 2 3 4 5 \n",
      "  1 2 3 4 \n",
      "    1 2 3 \n",
      "      1 2 \n",
      "        1 \n"
     ]
    }
   ],
   "source": [
    "for i in range(1,6):\n",
    "    for k in range(1,i):\n",
    "        print(' ',end=\" \")\n",
    "    for j in range(1,7-i):\n",
    "        print(j,end=\" \")\n",
    "    print()    "
   ]
  },
  {
   "cell_type": "code",
   "execution_count": 6,
   "id": "3a81fe88",
   "metadata": {},
   "outputs": [
    {
     "name": "stdout",
     "output_type": "stream",
     "text": [
      "1 2 3 4 5 \n",
      "1 2 3 4 \n",
      "1 2 3 \n",
      "1 2 \n",
      "1 \n"
     ]
    }
   ],
   "source": [
    "for i in range(1,6):\n",
    "    for k in range(1,i):\n",
    "        print('',end=\"\")\n",
    "    for j in range(1,7-i):\n",
    "        print(j,end=\" \")\n",
    "    print()    "
   ]
  },
  {
   "cell_type": "code",
   "execution_count": 12,
   "id": "8c0a6293",
   "metadata": {},
   "outputs": [
    {
     "name": "stdout",
     "output_type": "stream",
     "text": [
      "* * * * * * * * * \n",
      "  * * * * * * * \n",
      "    * * * * * \n",
      "      * * * \n",
      "        * \n"
     ]
    }
   ],
   "source": [
    "for i in range(1,6):\n",
    "    for k in range(1,i):\n",
    "        print(' ',end=\" \")\n",
    "    for j in range(1,12-2*i):\n",
    "        print(\"*\",end= \" \")\n",
    "    print()    "
   ]
  },
  {
   "cell_type": "code",
   "execution_count": 13,
   "id": "09292556",
   "metadata": {},
   "outputs": [
    {
     "name": "stdout",
     "output_type": "stream",
     "text": [
      "        * \n",
      "      * * * \n",
      "    * * * * * \n",
      "  * * * * * * * \n",
      "* * * * * * * * * \n"
     ]
    }
   ],
   "source": [
    "for i in range(1,6):\n",
    "    for k in range(1,6-i):\n",
    "        print(' ',end=\" \")\n",
    "    for j in range(1,2*i):\n",
    "        print(\"*\",end= \" \")\n",
    "    print()    "
   ]
  },
  {
   "cell_type": "code",
   "execution_count": 17,
   "id": "7a59e85e",
   "metadata": {},
   "outputs": [
    {
     "name": "stdout",
     "output_type": "stream",
     "text": [
      "1 \n",
      "1 2 1 \n",
      "1 2 3 2 1 \n",
      "1 2 3 4 3 2 1 \n",
      "1 2 3 4 5 4 3 2 1 \n"
     ]
    }
   ],
   "source": [
    "for i in range(1,6):\n",
    "    for j in range(1,i+1):\n",
    "        print(j,end=\" \")\n",
    "    for k in range(i-1,0,-1):\n",
    "        print(k,end=\" \")\n",
    "    print()    "
   ]
  },
  {
   "cell_type": "code",
   "execution_count": 20,
   "id": "b0284bf6",
   "metadata": {},
   "outputs": [
    {
     "name": "stdout",
     "output_type": "stream",
     "text": [
      "        1 \n",
      "      1 2 1 \n",
      "    1 2 3 2 1 \n",
      "  1 2 3 4 3 2 1 \n",
      "1 2 3 4 5 4 3 2 1 \n"
     ]
    }
   ],
   "source": [
    "for i in range(1,6):\n",
    "    for l in range(1,6-i):\n",
    "        print(\" \",end=\" \")\n",
    "    for j in range(1,i+1):\n",
    "        print(j,end=\" \")\n",
    "    for k in range(i-1,0,-1):\n",
    "        print(k,end=\" \")\n",
    "    print()    "
   ]
  },
  {
   "cell_type": "code",
   "execution_count": null,
   "id": "109237cb",
   "metadata": {},
   "outputs": [],
   "source": []
  }
 ],
 "metadata": {
  "kernelspec": {
   "display_name": "Python 3 (ipykernel)",
   "language": "python",
   "name": "python3"
  },
  "language_info": {
   "codemirror_mode": {
    "name": "ipython",
    "version": 3
   },
   "file_extension": ".py",
   "mimetype": "text/x-python",
   "name": "python",
   "nbconvert_exporter": "python",
   "pygments_lexer": "ipython3",
   "version": "3.9.12"
  }
 },
 "nbformat": 4,
 "nbformat_minor": 5
}
