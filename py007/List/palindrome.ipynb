{
 "cells": [
  {
   "cell_type": "code",
   "execution_count": 2,
   "id": "7caf89fa",
   "metadata": {},
   "outputs": [
    {
     "name": "stdout",
     "output_type": "stream",
     "text": [
      "enter size of list5\n",
      "enter 5 element\n",
      "enter 1 element\n",
      "1\n",
      "enter 2 element\n",
      "4\n",
      "enter 3 element\n",
      "1\n",
      "enter 4 element\n",
      "4\n",
      "enter 5 element\n",
      "1\n",
      "[1, 4, 1, 4, 1]\n",
      "[1, 4, 1, 4, 1]\n",
      "[1, 4, 1, 4, 1] is palindrome\n"
     ]
    }
   ],
   "source": [
    "s=int(input(\"enter size of list\"))\n",
    "print('enter',s,'element')\n",
    "a=[]\n",
    "for i in range(1,s+1):\n",
    "    print('enter',i,'element')\n",
    "    t=int(input())\n",
    "    a.append(t)\n",
    "print(a) \n",
    "b=a.copy()\n",
    "b.reverse()\n",
    "print(b)\n",
    "if a==b:\n",
    "    print(a,'is palindrome')\n",
    "else:\n",
    "    print(a,'is not palindrome')"
   ]
  }
 ],
 "metadata": {
  "kernelspec": {
   "display_name": "Python 3 (ipykernel)",
   "language": "python",
   "name": "python3"
  },
  "language_info": {
   "codemirror_mode": {
    "name": "ipython",
    "version": 3
   },
   "file_extension": ".py",
   "mimetype": "text/x-python",
   "name": "python",
   "nbconvert_exporter": "python",
   "pygments_lexer": "ipython3",
   "version": "3.9.12"
  }
 },
 "nbformat": 4,
 "nbformat_minor": 5
}
