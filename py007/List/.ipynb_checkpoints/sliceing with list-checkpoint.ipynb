{
 "cells": [
  {
   "cell_type": "code",
   "execution_count": 9,
   "id": "1fcf5336",
   "metadata": {},
   "outputs": [
    {
     "name": "stdout",
     "output_type": "stream",
     "text": [
      "10\n"
     ]
    }
   ],
   "source": [
    "a=[10,20,30,10,20,30,40,50,10,20,60,70]\n",
    "print(a[0])"
   ]
  },
  {
   "cell_type": "code",
   "execution_count": 4,
   "id": "8ed224b4",
   "metadata": {},
   "outputs": [
    {
     "name": "stdout",
     "output_type": "stream",
     "text": [
      "[10, 20, 30]\n"
     ]
    }
   ],
   "source": [
    "a=[10,20,30,10,20,30,40,50,10,20,60,70]\n",
    "print(a[0:3])"
   ]
  },
  {
   "cell_type": "code",
   "execution_count": 7,
   "id": "dc14a3ab",
   "metadata": {},
   "outputs": [
    {
     "name": "stdout",
     "output_type": "stream",
     "text": [
      "[10, 20, 30, 10, 20, 30, 40, 50, 10, 20, 60, 70]\n"
     ]
    }
   ],
   "source": [
    "a=[10,20,30,10,20,30,40,50,10,20,60,70]\n",
    "print(a[0: ])"
   ]
  },
  {
   "cell_type": "code",
   "execution_count": 11,
   "id": "2fd8854c",
   "metadata": {},
   "outputs": [
    {
     "name": "stdout",
     "output_type": "stream",
     "text": [
      "[10, 30, 20, 40, 10, 60]\n"
     ]
    }
   ],
   "source": [
    "a=[10,20,30,10,20,30,40,50,10,20,60,70]\n",
    "print(a[0::2])"
   ]
  },
  {
   "cell_type": "code",
   "execution_count": 15,
   "id": "48484b7b",
   "metadata": {},
   "outputs": [
    {
     "name": "stdout",
     "output_type": "stream",
     "text": [
      "[10, 10, 40]\n"
     ]
    }
   ],
   "source": [
    "a=[10,20,30,10,20,30,40,50,10,20,60,70]\n",
    "print(a[0:7:3])"
   ]
  },
  {
   "cell_type": "code",
   "execution_count": 17,
   "id": "09b1e0b7",
   "metadata": {},
   "outputs": [
    {
     "name": "stdout",
     "output_type": "stream",
     "text": [
      "[20, 30, 10, 20, 30, 40, 50, 10, 20, 60, 70]\n"
     ]
    }
   ],
   "source": [
    "a=[10,20,30,10,20,30,40,50,10,20,60,70]\n",
    "print(a[1::])"
   ]
  },
  {
   "cell_type": "code",
   "execution_count": 19,
   "id": "2e5deba7",
   "metadata": {},
   "outputs": [
    {
     "name": "stdout",
     "output_type": "stream",
     "text": [
      "[70, 60, 20, 10, 50, 40, 30, 20, 10, 30, 20, 10]\n"
     ]
    }
   ],
   "source": [
    "a=[10,20,30,10,20,30,40,50,10,20,60,70]\n",
    "print(a[::-1])"
   ]
  },
  {
   "cell_type": "code",
   "execution_count": 21,
   "id": "a7957c3b",
   "metadata": {},
   "outputs": [
    {
     "name": "stdout",
     "output_type": "stream",
     "text": [
      "[50, 40, 30, 20, 10, 30, 20]\n"
     ]
    }
   ],
   "source": [
    "a=[10,20,30,10,20,30,40,50,10,20,60,70]\n",
    "print(a[7:0:-1])"
   ]
  },
  {
   "cell_type": "code",
   "execution_count": 22,
   "id": "10d8f9b9",
   "metadata": {},
   "outputs": [
    {
     "name": "stdout",
     "output_type": "stream",
     "text": [
      "[20, 30, 10]\n"
     ]
    }
   ],
   "source": [
    "a=[10,20,30,10,20,30,40,50,10,20,60,70]\n",
    "print(a[8::-2])"
   ]
  }
 ],
 "metadata": {
  "kernelspec": {
   "display_name": "Python 3 (ipykernel)",
   "language": "python",
   "name": "python3"
  },
  "language_info": {
   "codemirror_mode": {
    "name": "ipython",
    "version": 3
   },
   "file_extension": ".py",
   "mimetype": "text/x-python",
   "name": "python",
   "nbconvert_exporter": "python",
   "pygments_lexer": "ipython3",
   "version": "3.9.12"
  }
 },
 "nbformat": 4,
 "nbformat_minor": 5
}
