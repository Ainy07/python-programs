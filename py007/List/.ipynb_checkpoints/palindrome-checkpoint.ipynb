{
 "cells": [
  {
   "cell_type": "code",
   "execution_count": null,
   "id": "9c44a4f3",
   "metadata": {},
   "outputs": [],
   "source": [
    "s=int(input(\"enter size of list\"))\n",
    "print('enter',s,'element')\n",
    "a=[]\n",
    "for i in range(1,s+1):\n",
    "    print('enter',i,'element')\n",
    "    t=int(input())\n",
    "    a.append(t)\n",
    "print(a) \n",
    "b=a.copy()\n",
    "b.reverse()\n",
    "print(b)\n",
    "if a==b:\n",
    "    print(a,'is palindrome')\n",
    "else:\n",
    "    print(a,'is not palindrome')"
   ]
  }
 ],
 "metadata": {
  "kernelspec": {
   "display_name": "Python 3 (ipykernel)",
   "language": "python",
   "name": "python3"
  },
  "language_info": {
   "codemirror_mode": {
    "name": "ipython",
    "version": 3
   },
   "file_extension": ".py",
   "mimetype": "text/x-python",
   "name": "python",
   "nbconvert_exporter": "python",
   "pygments_lexer": "ipython3",
   "version": "3.9.12"
  }
 },
 "nbformat": 4,
 "nbformat_minor": 5
}
