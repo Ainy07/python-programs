{
 "cells": [
  {
   "cell_type": "code",
   "execution_count": null,
   "id": "f535f032",
   "metadata": {},
   "outputs": [],
   "source": [
    "s=int(input(\"enter size of list\"))\n",
    "print('enter',s,'element')\n",
    "a=[]\n",
    "for i in range(1,s+1):\n",
    "    print('enter',i,'element')\n",
    "    t=int(input())\n",
    "    a.append(t)\n",
    "print(a)\n",
    "b=[]\n",
    "for i in a:\n",
    "    if a.count(i)>1 and i not in b:\n",
    "        print(i,'repeated',a.count(i),'times')\n",
    "        b.append(i)"
   ]
  }
 ],
 "metadata": {
  "kernelspec": {
   "display_name": "Python 3 (ipykernel)",
   "language": "python",
   "name": "python3"
  },
  "language_info": {
   "codemirror_mode": {
    "name": "ipython",
    "version": 3
   },
   "file_extension": ".py",
   "mimetype": "text/x-python",
   "name": "python",
   "nbconvert_exporter": "python",
   "pygments_lexer": "ipython3",
   "version": "3.9.12"
  }
 },
 "nbformat": 4,
 "nbformat_minor": 5
}
