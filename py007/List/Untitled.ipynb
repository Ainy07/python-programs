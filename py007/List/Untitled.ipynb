{
 "cells": [
  {
   "cell_type": "code",
   "execution_count": 4,
   "id": "0eb38f4e",
   "metadata": {},
   "outputs": [
    {
     "name": "stdout",
     "output_type": "stream",
     "text": [
      "6\n",
      "113.4\n"
     ]
    }
   ],
   "source": [
    "a=[1,2,3,12.5,77.3,23.6]\n",
    "s=0\n",
    "sf=0\n",
    "for i in a:\n",
    "    if type(i)==int:\n",
    "        s=s+i\n",
    "    else:\n",
    "        sf=sf+i\n",
    "print(s)\n",
    "print(sf)"
   ]
  }
 ],
 "metadata": {
  "kernelspec": {
   "display_name": "Python 3 (ipykernel)",
   "language": "python",
   "name": "python3"
  },
  "language_info": {
   "codemirror_mode": {
    "name": "ipython",
    "version": 3
   },
   "file_extension": ".py",
   "mimetype": "text/x-python",
   "name": "python",
   "nbconvert_exporter": "python",
   "pygments_lexer": "ipython3",
   "version": "3.9.12"
  }
 },
 "nbformat": 4,
 "nbformat_minor": 5
}
