{
 "cells": [
  {
   "cell_type": "code",
   "execution_count": 1,
   "id": "1baa6cf0",
   "metadata": {},
   "outputs": [
    {
     "name": "stdout",
     "output_type": "stream",
     "text": [
      "enter size of list5\n",
      "enter 5 element\n",
      "enter 1 element\n",
      "1\n",
      "enter 2 element\n",
      "2\n",
      "enter 3 element\n",
      "3\n",
      "enter 4 element\n",
      "4\n",
      "enter 5 element\n",
      "5\n",
      "[1, 2, 3, 4, 5]\n"
     ]
    }
   ],
   "source": [
    "s=int(input(\"enter size of list\"))\n",
    "print('enter',s,'element')\n",
    "a=[]\n",
    "for i in range(1,s+1):\n",
    "    print('enter',i,'element')\n",
    "    t=int(input())\n",
    "    a.append(t)\n",
    "print(a)\n",
    "b=[]\n",
    "for i in a:\n",
    "    if a.count(i)>1 and i not in b:\n",
    "        print(i,'repeated',a.count(i),'times')\n",
    "        b.append(i)"
   ]
  }
 ],
 "metadata": {
  "kernelspec": {
   "display_name": "Python 3 (ipykernel)",
   "language": "python",
   "name": "python3"
  },
  "language_info": {
   "codemirror_mode": {
    "name": "ipython",
    "version": 3
   },
   "file_extension": ".py",
   "mimetype": "text/x-python",
   "name": "python",
   "nbconvert_exporter": "python",
   "pygments_lexer": "ipython3",
   "version": "3.9.12"
  }
 },
 "nbformat": 4,
 "nbformat_minor": 5
}
