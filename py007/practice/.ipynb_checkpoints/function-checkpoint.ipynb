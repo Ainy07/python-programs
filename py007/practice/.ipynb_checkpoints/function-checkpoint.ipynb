{
 "cells": [
  {
   "cell_type": "code",
   "execution_count": 2,
   "id": "a410bf83",
   "metadata": {},
   "outputs": [
    {
     "name": "stdout",
     "output_type": "stream",
     "text": [
      "yesh\n",
      "programmers point\n",
      "address\n",
      "programmers point vijay nagar\n",
      "programmers point bhawarkuaa\n",
      "programmers point ujjain\n",
      "ainy\n",
      "programmers point\n",
      "address\n",
      "programmers point vijay nagar\n",
      "programmers point bhawarkuaa\n",
      "programmers point ujjain\n"
     ]
    }
   ],
   "source": [
    "#function without agrument and no return value..\n",
    "def intro():\n",
    "    print(\"programmers point\")\n",
    "    print(\"address\")\n",
    "    print(\"programmers point vijay nagar\")\n",
    "    print(\"programmers point bhawarkuaa\")\n",
    "    print(\"programmers point ujjain\")\n",
    "print(\"yesh\")\n",
    "intro()\n",
    "print(\"ainy\")\n",
    "intro()"
   ]
  },
  {
   "cell_type": "code",
   "execution_count": 5,
   "id": "8d711305",
   "metadata": {},
   "outputs": [
    {
     "name": "stdout",
     "output_type": "stream",
     "text": [
      "raj\n",
      "factorial of  9 is 362880\n",
      "ainy\n",
      "please enter valid input\n",
      "himanshu\n",
      "factorial of  8 is 40320\n"
     ]
    }
   ],
   "source": [
    "#function with arguments and no return value..\n",
    "def fact(n):\n",
    "    if type(n)==int:\n",
    "        f=1\n",
    "        for i in range(1,n+1):\n",
    "            f=f*i\n",
    "        print('factorial of ',n,'is',f)\n",
    "    else:\n",
    "        print('please enter valid input')\n",
    "print('raj')\n",
    "fact(9)\n",
    "print('ainy')\n",
    "fact('hello')\n",
    "print('himanshu')\n",
    "fact(8)"
   ]
  },
  {
   "cell_type": "code",
   "execution_count": 11,
   "id": "aa44b786",
   "metadata": {},
   "outputs": [
    {
     "name": "stdout",
     "output_type": "stream",
     "text": [
      "125\n",
      "343\n"
     ]
    }
   ],
   "source": [
    "#function with arguments and return value\n",
    "def cube(n):\n",
    "    return n**3\n",
    "i=cube(5)\n",
    "print(i)\n",
    "print(cube(7))"
   ]
  },
  {
   "cell_type": "code",
   "execution_count": 12,
   "id": "deb7031f",
   "metadata": {},
   "outputs": [
    {
     "name": "stdout",
     "output_type": "stream",
     "text": [
      "123456\n",
      "123456\n"
     ]
    }
   ],
   "source": [
    "#function without arguments and return value\n",
    "def getcode():\n",
    "    return 123456\n",
    "i=getcode()\n",
    "print(i)\n",
    "print(getcode())\n"
   ]
  },
  {
   "cell_type": "code",
   "execution_count": 14,
   "id": "2a02f2cb",
   "metadata": {},
   "outputs": [
    {
     "name": "stdout",
     "output_type": "stream",
     "text": [
      "enter a value  7\n",
      "Odd\n"
     ]
    }
   ],
   "source": [
    "def checkeven(n):\n",
    "    if n%2==0:\n",
    "        return \"Even\"\n",
    "    else:\n",
    "        return \"Odd\"\n",
    "i=int(input(\"enter a value  \"))\n",
    "print(checkeven(i))"
   ]
  },
  {
   "cell_type": "code",
   "execution_count": null,
   "id": "de833809",
   "metadata": {},
   "outputs": [],
   "source": []
  },
  {
   "cell_type": "code",
   "execution_count": 1,
   "id": "9e003d04",
   "metadata": {},
   "outputs": [
    {
     "name": "stdout",
     "output_type": "stream",
     "text": [
      "enter a value 12\n",
      "Not Prime\n"
     ]
    }
   ],
   "source": [
    "def checkprime(num):\n",
    "    if num>1:\n",
    "        for n in range(2,num):\n",
    "            if num%n==0:\n",
    "                return \"Not Prime\"\n",
    "        return \"Prime\"\n",
    "    else:\n",
    "        return \"Not Prime\"\n",
    "i=int(input(\"enter a value \"))\n",
    "print(checkprime(i))"
   ]
  },
  {
   "cell_type": "code",
   "execution_count": 3,
   "id": "6e73e79c",
   "metadata": {},
   "outputs": [
    {
     "name": "stdout",
     "output_type": "stream",
     "text": [
      "Palindrome\n"
     ]
    }
   ],
   "source": [
    "num = 1221\n",
    "temp = num\n",
    "reverse = 0\n",
    "while temp > 0:\n",
    "    remainder = temp % 10\n",
    "    reverse = (reverse * 10) + remainder\n",
    "    temp = temp // 10\n",
    "if num == reverse:\n",
    "    print('Palindrome')\n",
    "else:\n",
    "    print(\"Not Palindrome\")"
   ]
  },
  {
   "cell_type": "code",
   "execution_count": null,
   "id": "68be8d85",
   "metadata": {},
   "outputs": [],
   "source": [
    "\n",
    "def isPalindrome(string): \n",
    "    if (string == string[::-1]) : \n",
    "        return \"The string is a palindrome.\" \n",
    "    else: \n",
    "        return \"The string is not a palindrome.\" \n",
    "string = input (\"Enter string: \") \n",
    "print(isPalindrome(string)) "
   ]
  },
  {
   "cell_type": "code",
   "execution_count": null,
   "id": "c81f1241",
   "metadata": {},
   "outputs": [],
   "source": []
  }
 ],
 "metadata": {
  "kernelspec": {
   "display_name": "Python 3 (ipykernel)",
   "language": "python",
   "name": "python3"
  },
  "language_info": {
   "codemirror_mode": {
    "name": "ipython",
    "version": 3
   },
   "file_extension": ".py",
   "mimetype": "text/x-python",
   "name": "python",
   "nbconvert_exporter": "python",
   "pygments_lexer": "ipython3",
   "version": "3.9.12"
  }
 },
 "nbformat": 4,
 "nbformat_minor": 5
}
