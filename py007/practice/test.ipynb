{
 "cells": [
  {
   "cell_type": "code",
   "execution_count": 2,
   "id": "d413632e",
   "metadata": {},
   "outputs": [
    {
     "name": "stdout",
     "output_type": "stream",
     "text": [
      "enter first number12\n",
      "enter second number12\n",
      "Add numbers 24\n"
     ]
    }
   ],
   "source": [
    "#add 2 number\n",
    "a=int(input(\"enter first number\"))\n",
    "b=int(input(\"enter second number\"))\n",
    "c=a+b\n",
    "print(\"Add numbers\",c)"
   ]
  },
  {
   "cell_type": "code",
   "execution_count": 3,
   "id": "d10385eb",
   "metadata": {},
   "outputs": [
    {
     "name": "stdout",
     "output_type": "stream",
     "text": [
      "13\n"
     ]
    }
   ],
   "source": [
    "#add 2 number\n",
    "a=5\n",
    "b=8\n",
    "print(a+b)"
   ]
  },
  {
   "cell_type": "code",
   "execution_count": 3,
   "id": "e06b853e",
   "metadata": {},
   "outputs": [
    {
     "name": "stdout",
     "output_type": "stream",
     "text": [
      "enter principal12\n",
      "enter rate45\n",
      "enter time12\n",
      "64.8\n"
     ]
    }
   ],
   "source": [
    "#simple interest\n",
    "p=int(input(\"enter principal\"))\n",
    "r=int(input(\"enter rate\"))\n",
    "t=int(input(\"enter time\"))\n",
    "si=(p*r*t)/100\n",
    "print(si)"
   ]
  },
  {
   "cell_type": "code",
   "execution_count": 3,
   "id": "c518611d",
   "metadata": {},
   "outputs": [
    {
     "name": "stdout",
     "output_type": "stream",
     "text": [
      "enter principal12000\n",
      "enter rate3\n",
      "enter time4\n",
      "10560.0\n"
     ]
    }
   ],
   "source": [
    "#compound interest\n",
    "p=int(input(\"enter principal\"))\n",
    "r=int(input(\"enter rate\"))\n",
    "t=int(input(\"enter time\"))\n",
    "a=(p*r*t)/100\n",
    "c=p-a\n",
    "print(c)"
   ]
  },
  {
   "cell_type": "code",
   "execution_count": 4,
   "id": "5b845877",
   "metadata": {},
   "outputs": [
    {
     "name": "stdout",
     "output_type": "stream",
     "text": [
      "[1, 2, 3, 4, 5]\n"
     ]
    }
   ],
   "source": [
    "#list-reverse\n",
    "l=[5,4,3,2,1]\n",
    "print(l[::-1])"
   ]
  },
  {
   "cell_type": "code",
   "execution_count": 1,
   "id": "be67db3c",
   "metadata": {},
   "outputs": [
    {
     "name": "stdout",
     "output_type": "stream",
     "text": [
      "9\n"
     ]
    }
   ],
   "source": [
    "#list-find length\n",
    "list = [1,2,3,4,5,6,7,8,9]\n",
    "print(len(list))"
   ]
  },
  {
   "cell_type": "code",
   "execution_count": null,
   "id": "c4814bc6",
   "metadata": {},
   "outputs": [],
   "source": []
  },
  {
   "cell_type": "code",
   "execution_count": 7,
   "id": "b14bd3ae",
   "metadata": {},
   "outputs": [
    {
     "name": "stdout",
     "output_type": "stream",
     "text": [
      "[8, 7, 6, 5, 4, 3, 2, 1]\n"
     ]
    }
   ],
   "source": [
    "#list-reverse\n",
    "list=[1,2,3,4,5,6,7,8]\n",
    "list.reverse()\n",
    "print(list)"
   ]
  },
  {
   "cell_type": "code",
   "execution_count": 12,
   "id": "b5ab2397",
   "metadata": {},
   "outputs": [
    {
     "name": "stdout",
     "output_type": "stream",
     "text": [
      "5\n"
     ]
    }
   ],
   "source": [
    "#list-find length\n",
    "list = [1, 4, 5, 7, 8]\n",
    "counter = 0\n",
    "for i in list:\n",
    "    counter = counter + 1\n",
    "print(counter)\n"
   ]
  },
  {
   "cell_type": "code",
   "execution_count": 2,
   "id": "f0670d44",
   "metadata": {},
   "outputs": [
    {
     "name": "stdout",
     "output_type": "stream",
     "text": [
      "enter number1\n",
      "enter number2\n",
      "maximum number is 2\n"
     ]
    }
   ],
   "source": [
    "# maximum of two numbers\n",
    "a=int(input(\"enter number\"))\n",
    "b=int(input(\"enter number\"))\n",
    "def max(a, b):\n",
    "    if a >= b:\n",
    "        return a\n",
    "    else:\n",
    "        return b\n",
    "print(\"maximum number is\",max(a, b))"
   ]
  },
  {
   "cell_type": "code",
   "execution_count": 1,
   "id": "253d7a1c",
   "metadata": {},
   "outputs": [
    {
     "name": "stdout",
     "output_type": "stream",
     "text": [
      "4\n"
     ]
    }
   ],
   "source": [
    "# maximum of two numbers\n",
    "a = 2\n",
    "b = 4\n",
    "maximum = max(a, b)\n",
    "print(maximum)"
   ]
  },
  {
   "cell_type": "code",
   "execution_count": 4,
   "id": "683620d0",
   "metadata": {},
   "outputs": [
    {
     "name": "stdout",
     "output_type": "stream",
     "text": [
      "smallest number is 12\n"
     ]
    }
   ],
   "source": [
    "#list-find smallest number, Use List sort() function\n",
    "list=[43,67,23,98,12,56]\n",
    "list.sort()\n",
    "print(\"smallest number is\",list[0])"
   ]
  },
  {
   "cell_type": "code",
   "execution_count": 5,
   "id": "7442203a",
   "metadata": {},
   "outputs": [
    {
     "name": "stdout",
     "output_type": "stream",
     "text": [
      "Smallest element is:  10\n"
     ]
    }
   ],
   "source": [
    "#list-find smallest number,Use Python For Loop\n",
    "list=[10, 52, 23, 41, 32]\n",
    "smallest = list[0] if a else None\n",
    "for i in list:\n",
    "    if i<smallest:\n",
    "        smallest=i\n",
    "print(\"Smallest number is: \", smallest)"
   ]
  },
  {
   "cell_type": "code",
   "execution_count": 3,
   "id": "b8e68592",
   "metadata": {},
   "outputs": [
    {
     "name": "stdout",
     "output_type": "stream",
     "text": [
      "Smallest number in the list is : 4.\n"
     ]
    }
   ],
   "source": [
    "#list-find smallest number,Use min() builtin function\n",
    "list=[34,4,56,78,12,34]\n",
    "smallest=min(list)\n",
    "print(f'Smallest number is : {smallest}.')"
   ]
  },
  {
   "cell_type": "code",
   "execution_count": 9,
   "id": "ee4ddc49",
   "metadata": {},
   "outputs": [
    {
     "name": "stdout",
     "output_type": "stream",
     "text": [
      "biggest number is 8\n",
      "second biggest number is 7\n"
     ]
    }
   ],
   "source": [
    "#find biggest and second biggest number\n",
    "n=15748\n",
    "b=0\n",
    "sb=0\n",
    "while n>0:\n",
    "    r=n%10\n",
    "    if r>b:\n",
    "        b=r\n",
    "    elif r>sb:\n",
    "        sb=r\n",
    "    n=n//10\n",
    "print(\"biggest number is\",b)\n",
    "print(\"second biggest number is\",sb)"
   ]
  },
  {
   "cell_type": "code",
   "execution_count": 11,
   "id": "a63eef7d",
   "metadata": {},
   "outputs": [
    {
     "name": "stdout",
     "output_type": "stream",
     "text": [
      "Largest number is: 200\n"
     ]
    }
   ],
   "source": [
    "#list-find largest number,using sort method\n",
    "list = [90, 73, 200, 63, 65]\n",
    "list.sort()\n",
    "print(\"Largest number is:\", list[-1])\n"
   ]
  },
  {
   "cell_type": "code",
   "execution_count": 12,
   "id": "10b4d036",
   "metadata": {},
   "outputs": [
    {
     "name": "stdout",
     "output_type": "stream",
     "text": [
      "Largest number is: 230\n"
     ]
    }
   ],
   "source": [
    "#list-find largest number, using max method\n",
    "list = [230, 23, 40, 93, 85]\n",
    "print(\"Largest number is:\", max (list))"
   ]
  },
  {
   "cell_type": "code",
   "execution_count": 1,
   "id": "7c82eb42",
   "metadata": {},
   "outputs": [
    {
     "name": "stdout",
     "output_type": "stream",
     "text": [
      "Enter number of elements in list: 5\n",
      "Enter elements: 45\n",
      "Enter elements: 67\n",
      "Enter elements: 89\n",
      "Enter elements: 43\n",
      "Enter elements: 87\n",
      "Largest element is: 89\n"
     ]
    }
   ],
   "source": [
    "#list-find largest number \n",
    "list = []\n",
    "n = int(input(\"Enter number of elements in list: \"))\n",
    "for i in range(1, n + 1):\n",
    "    element = int(input(\"Enter elements: \"))\n",
    "    list.append(element)\n",
    "print(\"Largest element is:\", max(list))\n"
   ]
  },
  {
   "cell_type": "code",
   "execution_count": 3,
   "id": "35e323ab",
   "metadata": {},
   "outputs": [
    {
     "name": "stdout",
     "output_type": "stream",
     "text": [
      "second Largest number is: 90\n"
     ]
    }
   ],
   "source": [
    "#list-find second largest number\n",
    "list = [90, 73, 200, 63, 65]\n",
    "list.sort()\n",
    "print(\"second Largest number is:\", list[-2])"
   ]
  },
  {
   "cell_type": "code",
   "execution_count": 11,
   "id": "5c8bddd7",
   "metadata": {},
   "outputs": [
    {
     "name": "stdout",
     "output_type": "stream",
     "text": [
      "38\n"
     ]
    }
   ],
   "source": [
    "#list-find second largest number\n",
    "list = [20, 38, 40, 25, 10]\n",
    "res = set(list)  \n",
    "res.remove(max(res)) \n",
    "print(max(res))  "
   ]
  },
  {
   "cell_type": "code",
   "execution_count": 15,
   "id": "d37b6fda",
   "metadata": {},
   "outputs": [
    {
     "name": "stdout",
     "output_type": "stream",
     "text": [
      "45\n"
     ]
    }
   ],
   "source": [
    "#list-element check exist\n",
    "list = [23,45,67,89,32]\n",
    "print(list[1])"
   ]
  },
  {
   "cell_type": "code",
   "execution_count": 24,
   "id": "712d26ac",
   "metadata": {},
   "outputs": [
    {
     "name": "stdout",
     "output_type": "stream",
     "text": [
      "enter number7\n",
      "not exists\n"
     ]
    }
   ],
   "source": [
    "#list-element check exist,using if else\n",
    "list=[1,3,5,8,9,2]\n",
    "i=int(input(\"enter number\"))\n",
    "if i in list:\n",
    "    print(\"exists\")\n",
    "else:\n",
    "    print(\"not exists\")"
   ]
  },
  {
   "cell_type": "code",
   "execution_count": 25,
   "id": "ce9903e8",
   "metadata": {},
   "outputs": [
    {
     "name": "stdout",
     "output_type": "stream",
     "text": [
      "Element Exists\n"
     ]
    }
   ],
   "source": [
    "#list-element check exist,using for loop\n",
    "list = [1, 6, 3, 5, 3, 4]\n",
    "for i in list:\n",
    "    if(i == 4):\n",
    "        print(\"Element Exists\")\n"
   ]
  },
  {
   "cell_type": "code",
   "execution_count": 30,
   "id": "3a870f23",
   "metadata": {},
   "outputs": [
    {
     "name": "stdout",
     "output_type": "stream",
     "text": [
      "48\n",
      "15\n"
     ]
    }
   ],
   "source": [
    "#list-multipli]y into all element\n",
    "def multiplyList(List):\n",
    "    r= 1\n",
    "    for x in List:\n",
    "        r =r * x\n",
    "    return r\n",
    "list1 = [2,4,6]\n",
    "list2 = [1,3,5]\n",
    "print(multiplyList(list1))\n",
    "print(multiplyList(list2))\n"
   ]
  },
  {
   "cell_type": "code",
   "execution_count": 32,
   "id": "dda2d9c9",
   "metadata": {},
   "outputs": [
    {
     "data": {
      "text/plain": [
       "120"
      ]
     },
     "execution_count": 32,
     "metadata": {},
     "output_type": "execute_result"
    }
   ],
   "source": [
    "#list-multipli]y into all element\n",
    "import math\n",
    "math.prod([1,2,3,4,5])"
   ]
  },
  {
   "cell_type": "code",
   "execution_count": 40,
   "id": "ececdc64",
   "metadata": {},
   "outputs": [
    {
     "name": "stdout",
     "output_type": "stream",
     "text": [
      "Enter the number of elements in list:5\n",
      "Enter element1:1\n",
      "Enter element2:2\n",
      "Enter element3:3\n",
      "Enter element4:4\n",
      "Enter element5:5\n",
      "New list is:\n",
      "[5, 2, 3, 4, 1]\n"
     ]
    }
   ],
   "source": [
    "#list-enterchange first and last value\n",
    "a=[]\n",
    "n= int(input(\"Enter the number of elements in list:\"))\n",
    "for x in range(0,n):\n",
    "    element=int(input(\"Enter element\" + str(x+1) + \":\"))\n",
    "    a.append(element)\n",
    "temp=a[0]\n",
    "a[0]=a[n-1]\n",
    "a[n-1]=temp\n",
    "print(\"New list is:\")\n",
    "print(a)"
   ]
  },
  {
   "cell_type": "markdown",
   "id": "e291b859",
   "metadata": {},
   "source": []
  },
  {
   "cell_type": "code",
   "execution_count": 41,
   "id": "a26d62ef",
   "metadata": {},
   "outputs": [
    {
     "name": "stdout",
     "output_type": "stream",
     "text": [
      "[24, 35, 9, 56, 12]\n"
     ]
    }
   ],
   "source": [
    "#list-enterchange first and last value\n",
    "def swapList(new):\n",
    "    size = len(new)\n",
    "    t = new[0]\n",
    "    new[0] = new[size - 1]\n",
    "    new[size - 1] = t\n",
    "    return new\n",
    "new = [12, 35, 9, 56, 24]\n",
    "print(swapList(new))\n"
   ]
  },
  {
   "cell_type": "code",
   "execution_count": 46,
   "id": "329a3169",
   "metadata": {},
   "outputs": [
    {
     "name": "stdout",
     "output_type": "stream",
     "text": [
      "-28 -10 -93 "
     ]
    }
   ],
   "source": [
    "#list-find negtive number\n",
    "list = [11, -28, -10, 45, 66, -93]\n",
    "for n in list:\n",
    "    if n < 0:\n",
    "        print(n, end=\" \")\n"
   ]
  },
  {
   "cell_type": "code",
   "execution_count": 54,
   "id": "3505fea8",
   "metadata": {},
   "outputs": [
    {
     "name": "stdout",
     "output_type": "stream",
     "text": [
      "21 4 93 "
     ]
    }
   ],
   "source": [
    "#list-find postive number\n",
    "list = [-10, 21, 4, -45, -66, 93]\n",
    "n = 0\n",
    "while(n < len(list1)):\n",
    "    if list1[num] >= 0:\n",
    "        print(list1[num], end = \" \")\n",
    "    num += 1\n"
   ]
  },
  {
   "cell_type": "code",
   "execution_count": 3,
   "id": "abb245c2",
   "metadata": {},
   "outputs": [
    {
     "name": "stdout",
     "output_type": "stream",
     "text": [
      "17\n"
     ]
    }
   ],
   "source": [
    "#string-length count\n",
    "s = \"Programmers point\"\n",
    "print(len(s))"
   ]
  },
  {
   "cell_type": "code",
   "execution_count": 4,
   "id": "c3134a80",
   "metadata": {},
   "outputs": [
    {
     "name": "stdout",
     "output_type": "stream",
     "text": [
      "24\n"
     ]
    }
   ],
   "source": [
    "#string-length count\n",
    "def findLength(s):\n",
    "    counter = 0\n",
    "    for i in s:\n",
    "        counter += 1\n",
    "    return counter\n",
    "s = \"Programmers point indore\"\n",
    "print(findLength(s))\n"
   ]
  },
  {
   "cell_type": "code",
   "execution_count": 18,
   "id": "dcc7dcdc",
   "metadata": {},
   "outputs": [
    {
     "name": "stdout",
     "output_type": "stream",
     "text": [
      "        * \n",
      "      * * * \n",
      "    * * * * * \n",
      "  * * * * * * * \n",
      "* * * * * * * * * \n"
     ]
    }
   ],
   "source": [
    "#Upper part of diamond \n",
    "for i in range(1,6):\n",
    "    for k in range(1,6-i):\n",
    "        print(' ',end=\" \")\n",
    "    for j in range(1,2*i):\n",
    "        print(\"*\",end= \" \")\n",
    "    print()    "
   ]
  },
  {
   "cell_type": "code",
   "execution_count": 6,
   "id": "9e9db8d4",
   "metadata": {},
   "outputs": [
    {
     "name": "stdout",
     "output_type": "stream",
     "text": [
      "* * * * * * * * * \n",
      "  * * * * * * * \n",
      "    * * * * * \n",
      "      * * * \n",
      "        * \n"
     ]
    }
   ],
   "source": [
    "#Lower part of diamond\n",
    "for i in range(1,6):\n",
    "    for k in range(1,i):\n",
    "        print(' ',end=\" \")\n",
    "    for j in range(1,12-2*i):\n",
    "        print(\"*\",end= \" \")\n",
    "    print()    "
   ]
  },
  {
   "cell_type": "code",
   "execution_count": 17,
   "id": "4f44fc3d",
   "metadata": {},
   "outputs": [
    {
     "name": "stdout",
     "output_type": "stream",
     "text": [
      "Enter number of star 9\n",
      "                * \n",
      "              * * * \n",
      "            * * * * * \n",
      "          * * * * * * * \n",
      "        * * * * * * * * * \n",
      "      * * * * * * * * * * * \n",
      "    * * * * * * * * * * * * * \n",
      "  * * * * * * * * * * * * * * * \n",
      "* * * * * * * * * * * * * * * * * \n",
      "  * * * * * * * * * * * * * * * \n",
      "    * * * * * * * * * * * * * \n",
      "      * * * * * * * * * * * \n",
      "        * * * * * * * * * \n",
      "          * * * * * * * \n",
      "            * * * * * \n",
      "              * * * \n",
      "                * \n"
     ]
    }
   ],
   "source": [
    "s= int(input('Enter number of star '))\n",
    "\n",
    "#Upper part of diamond \n",
    "for i in range(1, s+1):\n",
    "    for j in range(1,s-i+1):\n",
    "        print(\" \", end=\" \")\n",
    "    for k in range(1, 2*i):\n",
    "        print(\"*\", end=\" \")\n",
    "    print()\n",
    "\n",
    "#Lower part of diamond\n",
    "for i in range(s-1,0, -1):\n",
    "    for j in range(1,s-i+1):\n",
    "        print(\" \", end=\" \")\n",
    "    for k in range(1, 2*i):\n",
    "        print(\"*\", end=\" \")\n",
    "    print()"
   ]
  },
  {
   "cell_type": "code",
   "execution_count": 1,
   "id": "888baf54",
   "metadata": {},
   "outputs": [
    {
     "name": "stdout",
     "output_type": "stream",
     "text": [
      "enter expression :- 10+15\n",
      "25\n"
     ]
    }
   ],
   "source": [
    " #simple calculator\n",
    "a=input(\"enter expression :- \")\n",
    "print(eval(a))"
   ]
  },
  {
   "cell_type": "code",
   "execution_count": 5,
   "id": "58a95493",
   "metadata": {},
   "outputs": [
    {
     "name": "stdout",
     "output_type": "stream",
     "text": [
      "Select operation.\n",
      "1.Add\n",
      "2.Subtract\n",
      "3.Multiply\n",
      "4.Divide\n",
      "Enter choice(1/2/3/4): 3\n",
      "Enter first number: 5\n",
      "Enter second number: 7\n",
      "5 * 7 = 35\n",
      "Let's do next calculation? (yes/no): no\n"
     ]
    }
   ],
   "source": [
    "# simple calculator\n",
    "def add(a,b):\n",
    "    return a+b\n",
    "def subtract(a,b):\n",
    "    return a-b\n",
    "def multiply(a,b):\n",
    "    return a*b\n",
    "def divide(a,b):\n",
    "    return a/b\n",
    "print(\"Select operation.\")\n",
    "print(\"1.Add\")\n",
    "print(\"2.Subtract\")\n",
    "print(\"3.Multiply\")\n",
    "print(\"4.Divide\")\n",
    "\n",
    "while True:\n",
    "    choice = input(\"Enter choice(1/2/3/4): \")\n",
    "    if choice in ('1', '2', '3', '4'):\n",
    "        try:\n",
    "            num1 = int(input(\"Enter first number: \"))\n",
    "            num2 = int(input(\"Enter second number: \"))\n",
    "        except ValueError:\n",
    "            print(\"Invalid input. Please enter a number.\")\n",
    "            continue\n",
    "\n",
    "        if choice == '1':\n",
    "            print(num1, \"+\", num2, \"=\", add(num1, num2))\n",
    "\n",
    "        elif choice == '2':\n",
    "            print(num1, \"-\", num2, \"=\", subtract(num1, num2))\n",
    "\n",
    "        elif choice == '3':\n",
    "            print(num1, \"*\", num2, \"=\", multiply(num1, num2))\n",
    "\n",
    "        elif choice == '4':\n",
    "            print(num1, \"/\", num2, \"=\", divide(num1, num2))\n",
    "        next_calculation = input(\"Let's do next calculation? (yes/no): \")\n",
    "        if next_calculation == \"no\":\n",
    "            break\n",
    "    else:\n",
    "        print(\"Invalid Input\")"
   ]
  },
  {
   "cell_type": "code",
   "execution_count": 9,
   "id": "bb8fdb49",
   "metadata": {},
   "outputs": [
    {
     "name": "stdout",
     "output_type": "stream",
     "text": [
      "**** **** **** 8959\n",
      "**** **** **** 4567\n",
      "**** **** **** 1234\n"
     ]
    }
   ],
   "source": [
    "import re\n",
    "\n",
    "\n",
    "def cardnumber(cardstring, digits_to_keep=4, mask_char='*'):\n",
    "    cc_string_total = sum(map(str.isdigit, cardstring))\n",
    "\n",
    "    if digits_to_keep >= cc_string_total:\n",
    "        print(\"Not enough numbers. Add 10 or more numbers to the credit card number.\")\n",
    "\n",
    "    digits_to_mask = cc_string_total - digits_to_keep\n",
    "    masked_cc_string = re.sub('\\d', mask_char, cardstring, digits_to_mask)\n",
    "\n",
    "    return masked_cc_string\n",
    "\n",
    "\n",
    "print(cardnumber(\"4259 9826 4026 8959\"))\n",
    "print(cardnumber(\"4259 9829 4026 4567\"))\n",
    "print(cardnumber(\"4259 9826 4086 1234\"))\n"
   ]
  },
  {
   "cell_type": "code",
   "execution_count": 3,
   "id": "25eefb4e",
   "metadata": {},
   "outputs": [
    {
     "name": "stdout",
     "output_type": "stream",
     "text": [
      "***************3456\n"
     ]
    }
   ],
   "source": [
    "str = \"1234 5678 9012 3456\";\n",
    "strlength = len(str)\n",
    "masked = strlength - 4\n",
    "slimstr = str[masked:]\n",
    "print(\"*\" * masked + slimstr)"
   ]
  },
  {
   "cell_type": "code",
   "execution_count": 5,
   "id": "79dc5bbd",
   "metadata": {},
   "outputs": [
    {
     "name": "stdout",
     "output_type": "stream",
     "text": [
      "enter a number11\n",
      "odd\n"
     ]
    }
   ],
   "source": [
    "#even odd\n",
    "a=int(input(\"enter a number\"))\n",
    "if a%2==0:\n",
    "    print(\"even\")\n",
    "else:\n",
    "    print(\"odd\")"
   ]
  },
  {
   "cell_type": "code",
   "execution_count": 6,
   "id": "66cb265c",
   "metadata": {},
   "outputs": [
    {
     "name": "stdout",
     "output_type": "stream",
     "text": [
      "0 is not prime\n",
      "1 is not prime\n",
      "2 is prime\n",
      "3 is prime\n",
      "4 is not prime\n",
      "5 is prime\n",
      "6 is not prime\n",
      "7 is prime\n",
      "8 is not prime\n",
      "9 is not prime\n"
     ]
    }
   ],
   "source": [
    "#prime number\n",
    "for n in range(0,10):\n",
    "    if n==0 or n==1:\n",
    "        print(n,'is not prime')\n",
    "    else:\n",
    "        for i in range(2,n):\n",
    "            if n%i==0:\n",
    "                print(n, 'is not prime')\n",
    "                break\n",
    "        else:\n",
    "            print(n, 'is prime')"
   ]
  },
  {
   "cell_type": "code",
   "execution_count": null,
   "id": "71899c11",
   "metadata": {},
   "outputs": [],
   "source": []
  }
 ],
 "metadata": {
  "kernelspec": {
   "display_name": "Python 3 (ipykernel)",
   "language": "python",
   "name": "python3"
  },
  "language_info": {
   "codemirror_mode": {
    "name": "ipython",
    "version": 3
   },
   "file_extension": ".py",
   "mimetype": "text/x-python",
   "name": "python",
   "nbconvert_exporter": "python",
   "pygments_lexer": "ipython3",
   "version": "3.9.12"
  }
 },
 "nbformat": 4,
 "nbformat_minor": 5
}
