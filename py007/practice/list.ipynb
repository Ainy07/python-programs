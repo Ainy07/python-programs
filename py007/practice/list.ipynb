{
 "cells": [
  {
   "cell_type": "code",
   "execution_count": null,
   "id": "81cd9e14",
   "metadata": {},
   "outputs": [],
   "source": [
    "a=[] #by symbol\n",
    "print(a)\n",
    "print(type(a))\n",
    "a=list() #by constrouctor\n",
    "print(a)\n",
    "print(type(a))\n"
   ]
  },
  {
   "cell_type": "code",
   "execution_count": null,
   "id": "81e9c61f",
   "metadata": {},
   "outputs": [],
   "source": []
  },
  {
   "cell_type": "code",
   "execution_count": null,
   "id": "b6664798",
   "metadata": {},
   "outputs": [],
   "source": [
    "#take a list from user and find out repetative charrater with there count\n",
    "s=int(input(\"enter size of list\"))\n",
    "print(\"enter\",s,\"element\")\n",
    "a=[]\n",
    "for i in range(1,s+1):\n",
    "    print(\"enter\",i,\"element\")\n",
    "    t=int(input())\n",
    "    a.append(t)\n",
    "print(a)\n",
    "b=[]\n",
    "for i in a:\n",
    "    if (a.count(i)>1) and (i not in b):\n",
    "        print(i,\"repeated\",a.count(i),\"times\")\n",
    "        b.append(i)"
   ]
  },
  {
   "cell_type": "code",
   "execution_count": null,
   "id": "c816505e",
   "metadata": {},
   "outputs": [],
   "source": []
  },
  {
   "cell_type": "code",
   "execution_count": null,
   "id": "5682758a",
   "metadata": {},
   "outputs": [],
   "source": [
    "#take a list from user and check it its palindrome or not\n",
    "s=int(input(\"enter size of list\"))\n",
    "print(\"enter\",s,\"element\")\n",
    "a=[]\n",
    "for i in range(1,s+1):\n",
    "    print(\"enter\",i,\"element\")\n",
    "    t=int(input())\n",
    "    a.append(t)\n",
    "print(a)\n",
    "b=a.copy()\n",
    "b.reverse()\n",
    "print(b)\n",
    "if a==b:\n",
    "    print(a,\"is palindrome\")\n",
    "else:\n",
    "    print(a,\"is not palindrome\")"
   ]
  },
  {
   "cell_type": "code",
   "execution_count": null,
   "id": "a6b37760",
   "metadata": {},
   "outputs": [],
   "source": []
  }
 ],
 "metadata": {
  "kernelspec": {
   "display_name": "Python 3 (ipykernel)",
   "language": "python",
   "name": "python3"
  },
  "language_info": {
   "codemirror_mode": {
    "name": "ipython",
    "version": 3
   },
   "file_extension": ".py",
   "mimetype": "text/x-python",
   "name": "python",
   "nbconvert_exporter": "python",
   "pygments_lexer": "ipython3",
   "version": "3.9.12"
  }
 },
 "nbformat": 4,
 "nbformat_minor": 5
}
