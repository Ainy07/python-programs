{
 "cells": [
  {
   "cell_type": "code",
   "execution_count": 1,
   "id": "876d96f4",
   "metadata": {},
   "outputs": [
    {
     "name": "stdout",
     "output_type": "stream",
     "text": [
      "enter size of set5\n",
      "enter 5 element\n",
      "1\n",
      "3\n",
      "4\n",
      "5\n",
      "6\n",
      "smallest element 1 second smallest element 3\n",
      "biggest elemnent 6 second biggesr element 5\n"
     ]
    }
   ],
   "source": [
    "a=set()\n",
    "s=int(input(\"enter size of set\"))\n",
    "print('enter',s,'element')\n",
    "for i in range(s):\n",
    "    a.add(int(input()))\n",
    "a=list(a)\n",
    "a.sort()\n",
    "print(\"smallest element\",a[0],'second smallest element',a[1])\n",
    "a.reverse()\n",
    "print(\"biggest elemnent\",a[0],'second biggesr element',a[1])"
   ]
  }
 ],
 "metadata": {
  "kernelspec": {
   "display_name": "Python 3 (ipykernel)",
   "language": "python",
   "name": "python3"
  },
  "language_info": {
   "codemirror_mode": {
    "name": "ipython",
    "version": 3
   },
   "file_extension": ".py",
   "mimetype": "text/x-python",
   "name": "python",
   "nbconvert_exporter": "python",
   "pygments_lexer": "ipython3",
   "version": "3.9.12"
  }
 },
 "nbformat": 4,
 "nbformat_minor": 5
}
