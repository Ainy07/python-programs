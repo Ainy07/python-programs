{
 "cells": [
  {
   "cell_type": "code",
   "execution_count": 1,
   "id": "be2d001a",
   "metadata": {},
   "outputs": [
    {
     "name": "stdout",
     "output_type": "stream",
     "text": [
      "enter size of set5\n",
      "enter 5 elemnent\n",
      "1\n",
      "2\n",
      "1\n",
      "2\n",
      "1\n",
      "{1, 2}\n"
     ]
    }
   ],
   "source": [
    "a=set()\n",
    "s=int(input(\"enter size of set\"))\n",
    "print('enter',s,'elemnent')\n",
    "for i in range(1,s+1):\n",
    "    a.add(int(input()))\n",
    "print(a)    "
   ]
  }
 ],
 "metadata": {
  "kernelspec": {
   "display_name": "Python 3 (ipykernel)",
   "language": "python",
   "name": "python3"
  },
  "language_info": {
   "codemirror_mode": {
    "name": "ipython",
    "version": 3
   },
   "file_extension": ".py",
   "mimetype": "text/x-python",
   "name": "python",
   "nbconvert_exporter": "python",
   "pygments_lexer": "ipython3",
   "version": "3.9.12"
  }
 },
 "nbformat": 4,
 "nbformat_minor": 5
}
