{
 "cells": [
  {
   "cell_type": "code",
   "execution_count": 1,
   "id": "a213123d",
   "metadata": {},
   "outputs": [
    {
     "name": "stdout",
     "output_type": "stream",
     "text": [
      "its postive\n",
      "its even\n"
     ]
    }
   ],
   "source": [
    "a=110\n",
    "if a>0:\n",
    "    print(\"its postive\")\n",
    "    if a%2==0:\n",
    "        print(\"its even\")\n",
    "        if a<=10:\n",
    "            print(\"its range\")"
   ]
  },
  {
   "cell_type": "code",
   "execution_count": null,
   "id": "edb1fdcd",
   "metadata": {},
   "outputs": [],
   "source": []
  }
 ],
 "metadata": {
  "kernelspec": {
   "display_name": "Python 3 (ipykernel)",
   "language": "python",
   "name": "python3"
  },
  "language_info": {
   "codemirror_mode": {
    "name": "ipython",
    "version": 3
   },
   "file_extension": ".py",
   "mimetype": "text/x-python",
   "name": "python",
   "nbconvert_exporter": "python",
   "pygments_lexer": "ipython3",
   "version": "3.9.12"
  }
 },
 "nbformat": 4,
 "nbformat_minor": 5
}
