{
 "cells": [
  {
   "cell_type": "code",
   "execution_count": 1,
   "id": "4e687a50",
   "metadata": {},
   "outputs": [
    {
     "name": "stdout",
     "output_type": "stream",
     "text": [
      "{'roll': 101, 'name': 'ajay', 'address': 'ujjain', 'address1': 'indore'}\n"
     ]
    }
   ],
   "source": [
    "s={\n",
    "    'roll':101,\n",
    "    'name':'ajay',\n",
    "    'address':'indore',\n",
    "    'address1':'indore',\n",
    "#     'address':'ujjain'\n",
    "}\n",
    "print(s)"
   ]
  }
 ],
 "metadata": {
  "kernelspec": {
   "display_name": "Python 3 (ipykernel)",
   "language": "python",
   "name": "python3"
  },
  "language_info": {
   "codemirror_mode": {
    "name": "ipython",
    "version": 3
   },
   "file_extension": ".py",
   "mimetype": "text/x-python",
   "name": "python",
   "nbconvert_exporter": "python",
   "pygments_lexer": "ipython3",
   "version": "3.9.12"
  }
 },
 "nbformat": 4,
 "nbformat_minor": 5
}
