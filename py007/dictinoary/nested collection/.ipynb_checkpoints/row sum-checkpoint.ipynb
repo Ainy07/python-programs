{
 "cells": [
  {
   "cell_type": "code",
   "execution_count": 2,
   "id": "d38ef23b",
   "metadata": {},
   "outputs": [
    {
     "name": "stdout",
     "output_type": "stream",
     "text": [
      "12 15 18\n"
     ]
    }
   ],
   "source": [
    "a=[[1,2,3],[4,5,6],(7,8,9)]\n",
    "s1=0\n",
    "s2=0\n",
    "s3=0\n",
    "for i,j,k in a:\n",
    "    s1=s1+i\n",
    "    s2=s2+j\n",
    "    s3=s3+k\n",
    "print(s1,s2,s3)    "
   ]
  }
 ],
 "metadata": {
  "kernelspec": {
   "display_name": "Python 3 (ipykernel)",
   "language": "python",
   "name": "python3"
  },
  "language_info": {
   "codemirror_mode": {
    "name": "ipython",
    "version": 3
   },
   "file_extension": ".py",
   "mimetype": "text/x-python",
   "name": "python",
   "nbconvert_exporter": "python",
   "pygments_lexer": "ipython3",
   "version": "3.9.12"
  }
 },
 "nbformat": 4,
 "nbformat_minor": 5
}
