{
 "cells": [
  {
   "cell_type": "code",
   "execution_count": null,
   "id": "75c5511f",
   "metadata": {},
   "outputs": [],
   "source": [
    "a=[1,2,3,12.5,77.3,23.6]\n",
    "si=0\n",
    "sf=0\n",
    "for i in a:\n",
    "    if type(i)==int:\n",
    "        si=si+i\n",
    "    else:\n",
    "        sf=sf+i\n",
    "print('sum of int is',si)\n",
    "print('sum of float is',sf)"
   ]
  }
 ],
 "metadata": {
  "kernelspec": {
   "display_name": "Python 3 (ipykernel)",
   "language": "python",
   "name": "python3"
  },
  "language_info": {
   "codemirror_mode": {
    "name": "ipython",
    "version": 3
   },
   "file_extension": ".py",
   "mimetype": "text/x-python",
   "name": "python",
   "nbconvert_exporter": "python",
   "pygments_lexer": "ipython3",
   "version": "3.9.12"
  }
 },
 "nbformat": 4,
 "nbformat_minor": 5
}
