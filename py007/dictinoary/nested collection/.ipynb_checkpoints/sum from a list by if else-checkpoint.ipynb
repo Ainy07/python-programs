{
 "cells": [
  {
   "cell_type": "code",
   "execution_count": null,
   "id": "b41fc4a1",
   "metadata": {},
   "outputs": [],
   "source": [
    "a=[[1,2,3],[4,5,6],7,8,9]\n",
    "s=0\n",
    "for i in a:\n",
    "    if type(i)==list:\n",
    "        s=s+sum(i)\n",
    "    else:\n",
    "        s=s+i\n",
    "print(s)        "
   ]
  }
 ],
 "metadata": {
  "kernelspec": {
   "display_name": "Python 3 (ipykernel)",
   "language": "python",
   "name": "python3"
  },
  "language_info": {
   "codemirror_mode": {
    "name": "ipython",
    "version": 3
   },
   "file_extension": ".py",
   "mimetype": "text/x-python",
   "name": "python",
   "nbconvert_exporter": "python",
   "pygments_lexer": "ipython3",
   "version": "3.9.12"
  }
 },
 "nbformat": 4,
 "nbformat_minor": 5
}
