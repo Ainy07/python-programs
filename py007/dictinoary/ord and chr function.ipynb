{
 "cells": [
  {
   "cell_type": "code",
   "execution_count": 2,
   "id": "124dd0ee",
   "metadata": {},
   "outputs": [
    {
     "name": "stdout",
     "output_type": "stream",
     "text": [
      "65\n"
     ]
    }
   ],
   "source": [
    "a='A'\n",
    "print(ord(a))"
   ]
  },
  {
   "cell_type": "code",
   "execution_count": 4,
   "id": "a07a2456",
   "metadata": {},
   "outputs": [
    {
     "name": "stdout",
     "output_type": "stream",
     "text": [
      "A\n"
     ]
    }
   ],
   "source": [
    "a=65\n",
    "print(chr(a))"
   ]
  },
  {
   "cell_type": "code",
   "execution_count": 9,
   "id": "23fb0ea6",
   "metadata": {},
   "outputs": [
    {
     "name": "stdout",
     "output_type": "stream",
     "text": [
      "{'h': 104, 'e': 101, 'l': 108, 'o': 111, '_': 95, 'a': 97, 'i': 105, 'n': 110, 'y': 121}\n"
     ]
    }
   ],
   "source": [
    "s='hello_ainy'\n",
    "a={i:ord (i) for i in s}\n",
    "print(a)"
   ]
  },
  {
   "cell_type": "code",
   "execution_count": 13,
   "id": "5b4341d8",
   "metadata": {},
   "outputs": [
    {
     "name": "stdout",
     "output_type": "stream",
     "text": [
      "{1: 1, 2: 4, 3: 9, 4: 16, 5: 25, 6: 36, 7: 49, 8: 64, 9: 81, 10: 100}\n"
     ]
    }
   ],
   "source": [
    "a={i:i**2 for i in range(1,11)}\n",
    "print(a)"
   ]
  },
  {
   "cell_type": "code",
   "execution_count": 14,
   "id": "875dd8e3",
   "metadata": {},
   "outputs": [
    {
     "name": "stdout",
     "output_type": "stream",
     "text": [
      "{'Java': 4, 'Python': 6, 'React': 5, 'Node': 4, 'ocacle': 6, 'mern': 4}\n"
     ]
    }
   ],
   "source": [
    "s=['Java','Python','React','Node','ocacle','mern']\n",
    "a={i:len(i) for i in s}\n",
    "print(a)"
   ]
  }
 ],
 "metadata": {
  "kernelspec": {
   "display_name": "Python 3 (ipykernel)",
   "language": "python",
   "name": "python3"
  },
  "language_info": {
   "codemirror_mode": {
    "name": "ipython",
    "version": 3
   },
   "file_extension": ".py",
   "mimetype": "text/x-python",
   "name": "python",
   "nbconvert_exporter": "python",
   "pygments_lexer": "ipython3",
   "version": "3.9.12"
  }
 },
 "nbformat": 4,
 "nbformat_minor": 5
}
