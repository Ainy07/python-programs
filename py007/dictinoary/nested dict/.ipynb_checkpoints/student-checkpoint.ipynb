{
 "cells": [
  {
   "cell_type": "code",
   "execution_count": 9,
   "id": "7de0bc0e",
   "metadata": {},
   "outputs": [
    {
     "name": "stdout",
     "output_type": "stream",
     "text": [
      "Student-1\n",
      "Roll 101\n",
      "Name Ainy\n",
      "Address Indore\n",
      "Student-2\n",
      "Roll 102\n",
      "Name Shaifali\n",
      "Address Jabalpur\n",
      "Student-3\n",
      "Roll 103\n",
      "Name Jatin\n",
      "Address Delhi\n"
     ]
    }
   ],
   "source": [
    "s1={\n",
    "    'Roll': 101,\n",
    "    'Name': 'Ainy',\n",
    "    'Address' : 'Indore'\n",
    "}\n",
    "s2={\n",
    "    'Roll': 102,\n",
    "    'Name': 'Shaifali',\n",
    "    'Address' : 'Jabalpur'\n",
    "}\n",
    "s3={\n",
    "    'Roll': 103,\n",
    "    'Name': 'Jatin',\n",
    "    'Address' : 'Delhi'\n",
    "}\n",
    "s={\n",
    "    'Student-1': s1,\n",
    "    'Student-2':s2,\n",
    "    'Student-3' : s3\n",
    "}\n",
    "for i,j in s.items():\n",
    "    print(i)\n",
    "    for k,v in j.items():\n",
    "        print(k,v)"
   ]
  },
  {
   "cell_type": "code",
   "execution_count": 10,
   "id": "5121cdde",
   "metadata": {},
   "outputs": [
    {
     "ename": "SyntaxError",
     "evalue": "invalid syntax (625138164.py, line 7)",
     "output_type": "error",
     "traceback": [
      "\u001b[1;36m  Input \u001b[1;32mIn [10]\u001b[1;36m\u001b[0m\n\u001b[1;33m    'Student-2' : {\u001b[0m\n\u001b[1;37m    ^\u001b[0m\n\u001b[1;31mSyntaxError\u001b[0m\u001b[1;31m:\u001b[0m invalid syntax\n"
     ]
    }
   ],
   "source": [
    "s={\n",
    "    'Student-1' : {\n",
    "        'Roll' : 101,\n",
    "        'Name' : 'Ainy',\n",
    "        'Subject' : 'python'\n",
    "    },\n",
    "    'Student-2' : {\n",
    "        'Roll' : 102,\n",
    "        'Name' : 'Himanshu',\n",
    "        'Subject' : 'React'\n",
    "    },\n",
    "    'Student-3' : {\n",
    "        'Roll' : 103,\n",
    "        'Name' : 'Vaishnavi',\n",
    "        'Subject' : 'HTML'\n",
    "    }\n",
    "}\n",
    "for i,j in s.items():\n",
    "    print(i)\n",
    "    for k,v in j.items():\n",
    "        print(k,v)"
   ]
  }
 ],
 "metadata": {
  "kernelspec": {
   "display_name": "Python 3 (ipykernel)",
   "language": "python",
   "name": "python3"
  },
  "language_info": {
   "codemirror_mode": {
    "name": "ipython",
    "version": 3
   },
   "file_extension": ".py",
   "mimetype": "text/x-python",
   "name": "python",
   "nbconvert_exporter": "python",
   "pygments_lexer": "ipython3",
   "version": "3.9.12"
  }
 },
 "nbformat": 4,
 "nbformat_minor": 5
}
