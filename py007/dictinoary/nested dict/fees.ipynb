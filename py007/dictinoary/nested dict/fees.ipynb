{
 "cells": [
  {
   "cell_type": "code",
   "execution_count": 1,
   "id": "5f4093ca",
   "metadata": {},
   "outputs": [
    {
     "name": "stdout",
     "output_type": "stream",
     "text": [
      "{'Java': 25000, 'Python': 40000, 'React': 47880, 'Node': 87348, 'Ocacle': 98900, 'HTML': 10000}\n"
     ]
    }
   ],
   "source": [
    "subject=['Java','Python','React','Node','Ocacle','HTML']\n",
    "fees=[25000,40000,47880,87348,98900,10000]\n",
    "a={}\n",
    "for i,j in list(zip(subject,fees)):\n",
    "    a.update({i:j})\n",
    "print(a)    "
   ]
  }
 ],
 "metadata": {
  "kernelspec": {
   "display_name": "Python 3 (ipykernel)",
   "language": "python",
   "name": "python3"
  },
  "language_info": {
   "codemirror_mode": {
    "name": "ipython",
    "version": 3
   },
   "file_extension": ".py",
   "mimetype": "text/x-python",
   "name": "python",
   "nbconvert_exporter": "python",
   "pygments_lexer": "ipython3",
   "version": "3.9.12"
  }
 },
 "nbformat": 4,
 "nbformat_minor": 5
}
