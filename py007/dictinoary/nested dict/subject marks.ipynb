{
 "cells": [
  {
   "cell_type": "code",
   "execution_count": 2,
   "id": "414b888d",
   "metadata": {},
   "outputs": [
    {
     "name": "stdout",
     "output_type": "stream",
     "text": [
      "Roll 101\n",
      "Name Ainy Gupta\n",
      "Address Indore\n",
      "Age 22\n",
      "Marks\n",
      "Java 98\n",
      "Python 78\n",
      "React 67\n",
      "HTML 95\n",
      "Ocacla 49\n",
      "Node 83\n"
     ]
    }
   ],
   "source": [
    "Subjects=['Java','Python','React','HTML','Ocacla','Node']\n",
    "s={\n",
    "    'Roll': 101,\n",
    "    'Name':'Ainy Gupta',\n",
    "    'Address':'Indore',\n",
    "    'Age':22,\n",
    "    'Marks':[98,78,67,95,49,83]\n",
    "}\n",
    "for i,j in s.items():\n",
    "    if i=='Marks':\n",
    "        print(i)\n",
    "        for x,y in list(zip(Subjects,j)):\n",
    "            print(x,y)\n",
    "    else:\n",
    "        print(i,j)"
   ]
  },
  {
   "cell_type": "code",
   "execution_count": 3,
   "id": "4db15d51",
   "metadata": {},
   "outputs": [
    {
     "name": "stdout",
     "output_type": "stream",
     "text": [
      "student1 {'Roll': 101, 'Name': 'Ainy Gupta', 'Address': 'Indore', 'Age': 22, 'Marks': [98, 78, 67, 95, 49, 83]}\n",
      "student2 {'Roll': 102, 'Name': 'Himanshu Gupta', 'Address': 'Ahemdabad', 'Age': 26, 'Marks': [91, 88, 77, 55, 19, 73]}\n"
     ]
    }
   ],
   "source": [
    "Subjects=['Java','Python','React','HTML','Ocacla','Node']\n",
    "s={\n",
    "    'student1':{\n",
    "    'Roll': 101,\n",
    "    'Name':'Ainy Gupta',\n",
    "    'Address':'Indore',\n",
    "    'Age':22,\n",
    "    'Marks':[98,78,67,95,49,83]\n",
    "    },\n",
    "    'student2':{\n",
    "    'Roll': 102,\n",
    "    'Name':'Himanshu Gupta',\n",
    "    'Address':'Ahemdabad',\n",
    "    'Age':26,\n",
    "    'Marks':[91,88,77,55,19,73]\n",
    "    }\n",
    "}\n",
    "for i,j in s.items():\n",
    "    if i=='Marks':\n",
    "        print(i)\n",
    "        for x,y in list(zip(Subjects,j)):\n",
    "            print(x,y)\n",
    "    else:\n",
    "        print(i,j)"
   ]
  }
 ],
 "metadata": {
  "kernelspec": {
   "display_name": "Python 3 (ipykernel)",
   "language": "python",
   "name": "python3"
  },
  "language_info": {
   "codemirror_mode": {
    "name": "ipython",
    "version": 3
   },
   "file_extension": ".py",
   "mimetype": "text/x-python",
   "name": "python",
   "nbconvert_exporter": "python",
   "pygments_lexer": "ipython3",
   "version": "3.9.12"
  }
 },
 "nbformat": 4,
 "nbformat_minor": 5
}
