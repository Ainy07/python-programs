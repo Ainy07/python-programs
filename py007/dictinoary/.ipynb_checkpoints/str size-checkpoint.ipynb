{
 "cells": [
  {
   "cell_type": "code",
   "execution_count": null,
   "id": "4097d7fd",
   "metadata": {},
   "outputs": [],
   "source": [
    "a={}\n",
    "s=int(input(\"enter size of dict\"))\n",
    "print('enter',s,'elemnent')\n",
    "for i in range(1,s+1):\n",
    "    k=input(\"enter value for key\"+str(i))\n",
    "    v=input(\"enter value for values\"+str(i))\n",
    "    a.update({k:v})\n",
    "print(a)  "
   ]
  }
 ],
 "metadata": {
  "kernelspec": {
   "display_name": "Python 3 (ipykernel)",
   "language": "python",
   "name": "python3"
  },
  "language_info": {
   "codemirror_mode": {
    "name": "ipython",
    "version": 3
   },
   "file_extension": ".py",
   "mimetype": "text/x-python",
   "name": "python",
   "nbconvert_exporter": "python",
   "pygments_lexer": "ipython3",
   "version": "3.9.12"
  }
 },
 "nbformat": 4,
 "nbformat_minor": 5
}
