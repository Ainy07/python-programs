{
 "cells": [
  {
   "cell_type": "code",
   "execution_count": 2,
   "id": "f7d736bc",
   "metadata": {},
   "outputs": [
    {
     "name": "stdout",
     "output_type": "stream",
     "text": [
      "{}\n"
     ]
    }
   ],
   "source": [
    "s={\n",
    "    'roll': 101,\n",
    "    'name':'ajay',\n",
    "    'address':'indore'\n",
    "}\n",
    "s.clear()\n",
    "print(s)"
   ]
  },
  {
   "cell_type": "code",
   "execution_count": 5,
   "id": "3c7bdfbe",
   "metadata": {},
   "outputs": [
    {
     "name": "stdout",
     "output_type": "stream",
     "text": [
      "{'roll': 101, 'name': 'ajay', 'address': 'indore'}\n",
      "{'roll': 101, 'name': 'ajay', 'address': 'indore'}\n"
     ]
    }
   ],
   "source": [
    "s={\n",
    "    'roll': 101,\n",
    "    'name':'ajay',\n",
    "    'address':'indore'\n",
    "}\n",
    "# s.clear()\n",
    "a=s.copy()\n",
    "print(a)\n",
    "print(s)"
   ]
  },
  {
   "cell_type": "code",
   "execution_count": 7,
   "id": "0dde9022",
   "metadata": {},
   "outputs": [
    {
     "name": "stdout",
     "output_type": "stream",
     "text": [
      "{'jay': 'ppoint', 'ajay': 'ppoint'}\n"
     ]
    }
   ],
   "source": [
    "names=['jay','ajay']\n",
    "s={\n",
    "    'roll': 101,\n",
    "    'name':'ajay',\n",
    "    'address':'indore'\n",
    "}\n",
    "a={}\n",
    "a=a.fromkeys(names,'ppoint')\n",
    "print(a)"
   ]
  },
  {
   "cell_type": "code",
   "execution_count": 3,
   "id": "342c68c3",
   "metadata": {},
   "outputs": [
    {
     "name": "stdout",
     "output_type": "stream",
     "text": [
      "101\n"
     ]
    }
   ],
   "source": [
    "names=['jay','ajay']\n",
    "s={\n",
    "    'roll': 101,\n",
    "    'name':'ajay',\n",
    "    'address':'indore'\n",
    "}\n",
    "print(s.get(\"roll\"))"
   ]
  },
  {
   "cell_type": "code",
   "execution_count": 5,
   "id": "162ed696",
   "metadata": {},
   "outputs": [
    {
     "data": {
      "text/plain": [
       "'ajay'"
      ]
     },
     "execution_count": 5,
     "metadata": {},
     "output_type": "execute_result"
    }
   ],
   "source": [
    "names=['jay','ajay']\n",
    "s={\n",
    "    'roll': 101,\n",
    "    'name':'ajay',\n",
    "    'address':'indore'\n",
    "}\n",
    "s.pop('name')"
   ]
  },
  {
   "cell_type": "code",
   "execution_count": 9,
   "id": "3dfb951a",
   "metadata": {},
   "outputs": [
    {
     "name": "stdout",
     "output_type": "stream",
     "text": [
      "{'roll': 101, 'name': 'ajay'}\n"
     ]
    }
   ],
   "source": [
    "names=['jay','ajay']\n",
    "s={\n",
    "    'roll': 101,\n",
    "    'name':'ajay',\n",
    "    'address':'indore'\n",
    "}\n",
    "s.popitem()\n",
    "print(s)"
   ]
  },
  {
   "cell_type": "code",
   "execution_count": 13,
   "id": "31bcb7ca",
   "metadata": {},
   "outputs": [
    {
     "name": "stdout",
     "output_type": "stream",
     "text": [
      "{'roll': 101, 'name': 'ajay', 'address': 'indore', 'address1': 'bhopal'}\n"
     ]
    }
   ],
   "source": [
    "names=['jay','ajay']\n",
    "s={\n",
    "    'roll': 101,\n",
    "    'name':'ajay',\n",
    "    'address':'indore'\n",
    "}\n",
    "s.setdefault('address','bhopal')\n",
    "s.setdefault('address1','bhopal')\n",
    "print(s)"
   ]
  },
  {
   "cell_type": "code",
   "execution_count": 15,
   "id": "dbeac088",
   "metadata": {},
   "outputs": [
    {
     "name": "stdout",
     "output_type": "stream",
     "text": [
      "{'roll': 101, 'name': 'ajay', 'address': 'indore', 'branch': 'cs', 'sem': 2, 'year': 1}\n"
     ]
    }
   ],
   "source": [
    "s={\n",
    "    'roll': 101,\n",
    "    'name':'ajay',\n",
    "    'address':'indore'\n",
    "}\n",
    "clg={\n",
    "    'branch':'cs',\n",
    "    'sem':2,\n",
    "    'year':1\n",
    "}\n",
    "s.update(clg)\n",
    "print(s)"
   ]
  },
  {
   "cell_type": "code",
   "execution_count": 23,
   "id": "30500e10",
   "metadata": {},
   "outputs": [
    {
     "name": "stdout",
     "output_type": "stream",
     "text": [
      "traversing of dict\n",
      "keys by for loop\n",
      "roll\n",
      "name\n",
      "address\n",
      "values by for loop\n",
      "101\n",
      "ajay\n",
      "indore\n",
      "values by get method\n",
      "101\n",
      "ajay\n",
      "indore\n",
      "keys by keys method\n",
      "roll\n",
      "name\n",
      "address\n",
      "values by values method\n",
      "101\n",
      "ajay\n",
      "indore\n"
     ]
    }
   ],
   "source": [
    "s={\n",
    "    'roll': 101,\n",
    "    'name':'ajay',\n",
    "    'address':'indore'\n",
    "}\n",
    "print('traversing of dict')\n",
    "print('keys by for loop')\n",
    "for i in s:\n",
    "    print(i)\n",
    "print('values by for loop')\n",
    "for i in s:\n",
    "    print(s[i])\n",
    "print('values by get method')\n",
    "for i in s:\n",
    "    print(s.get(i))\n",
    "print('keys by keys method')\n",
    "for i in s.keys():\n",
    "    print(i)\n",
    "print('values by values method')\n",
    "for i in s.values():\n",
    "    print(i)\n",
    "    "
   ]
  },
  {
   "cell_type": "code",
   "execution_count": 25,
   "id": "e4436973",
   "metadata": {},
   "outputs": [
    {
     "name": "stdout",
     "output_type": "stream",
     "text": [
      "keys and values by item method\n"
     ]
    },
    {
     "ename": "AttributeError",
     "evalue": "'dict' object has no attribute 'Item'",
     "output_type": "error",
     "traceback": [
      "\u001b[1;31m---------------------------------------------------------------------------\u001b[0m",
      "\u001b[1;31mAttributeError\u001b[0m                            Traceback (most recent call last)",
      "Input \u001b[1;32mIn [25]\u001b[0m, in \u001b[0;36m<cell line: 7>\u001b[1;34m()\u001b[0m\n\u001b[0;32m      1\u001b[0m s\u001b[38;5;241m=\u001b[39m{\n\u001b[0;32m      2\u001b[0m     \u001b[38;5;124m'\u001b[39m\u001b[38;5;124mroll\u001b[39m\u001b[38;5;124m'\u001b[39m: \u001b[38;5;241m101\u001b[39m,\n\u001b[0;32m      3\u001b[0m     \u001b[38;5;124m'\u001b[39m\u001b[38;5;124mname\u001b[39m\u001b[38;5;124m'\u001b[39m:\u001b[38;5;124m'\u001b[39m\u001b[38;5;124majay\u001b[39m\u001b[38;5;124m'\u001b[39m,\n\u001b[0;32m      4\u001b[0m     \u001b[38;5;124m'\u001b[39m\u001b[38;5;124maddress\u001b[39m\u001b[38;5;124m'\u001b[39m:\u001b[38;5;124m'\u001b[39m\u001b[38;5;124mindore\u001b[39m\u001b[38;5;124m'\u001b[39m\n\u001b[0;32m      5\u001b[0m }\n\u001b[0;32m      6\u001b[0m \u001b[38;5;28mprint\u001b[39m(\u001b[38;5;124m'\u001b[39m\u001b[38;5;124mkeys and values by item method\u001b[39m\u001b[38;5;124m'\u001b[39m)\n\u001b[1;32m----> 7\u001b[0m \u001b[38;5;28;01mfor\u001b[39;00m i,j \u001b[38;5;129;01min\u001b[39;00m \u001b[43ms\u001b[49m\u001b[38;5;241;43m.\u001b[39;49m\u001b[43mItem\u001b[49m():\n\u001b[0;32m      8\u001b[0m     \u001b[38;5;28mprint\u001b[39m(i,j)\n",
      "\u001b[1;31mAttributeError\u001b[0m: 'dict' object has no attribute 'Item'"
     ]
    }
   ],
   "source": [
    "s={\n",
    "    'roll': 101,\n",
    "    'name':'ajay',\n",
    "    'address':'indore'\n",
    "}\n",
    "print('keys and values by item method')\n",
    "for i,j in s.items():\n",
    "    print(i,j)"
   ]
  }
 ],
 "metadata": {
  "kernelspec": {
   "display_name": "Python 3 (ipykernel)",
   "language": "python",
   "name": "python3"
  },
  "language_info": {
   "codemirror_mode": {
    "name": "ipython",
    "version": 3
   },
   "file_extension": ".py",
   "mimetype": "text/x-python",
   "name": "python",
   "nbconvert_exporter": "python",
   "pygments_lexer": "ipython3",
   "version": "3.9.12"
  }
 },
 "nbformat": 4,
 "nbformat_minor": 5
}
