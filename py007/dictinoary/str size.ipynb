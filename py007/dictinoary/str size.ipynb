{
 "cells": [
  {
   "cell_type": "code",
   "execution_count": 1,
   "id": "11985abf",
   "metadata": {},
   "outputs": [
    {
     "name": "stdout",
     "output_type": "stream",
     "text": [
      "enter size of dict4\n",
      "enter 4 elemnent\n",
      "enter value for key11\n",
      "enter value for values12\n",
      "enter value for key21\n",
      "enter value for values22\n",
      "enter value for key31\n",
      "enter value for values32\n",
      "enter value for key41\n",
      "enter value for values42\n",
      "{'1': '2'}\n"
     ]
    }
   ],
   "source": [
    "a={}\n",
    "s=int(input(\"enter size of dict\"))\n",
    "print('enter',s,'elemnent')\n",
    "for i in range(1,s+1):\n",
    "    k=input(\"enter value for key\"+str(i))\n",
    "    v=input(\"enter value for values\"+str(i))\n",
    "    a.update({k:v})\n",
    "print(a)  "
   ]
  }
 ],
 "metadata": {
  "kernelspec": {
   "display_name": "Python 3 (ipykernel)",
   "language": "python",
   "name": "python3"
  },
  "language_info": {
   "codemirror_mode": {
    "name": "ipython",
    "version": 3
   },
   "file_extension": ".py",
   "mimetype": "text/x-python",
   "name": "python",
   "nbconvert_exporter": "python",
   "pygments_lexer": "ipython3",
   "version": "3.9.12"
  }
 },
 "nbformat": 4,
 "nbformat_minor": 5
}
