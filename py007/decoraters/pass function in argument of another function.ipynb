{
 "cells": [
  {
   "cell_type": "code",
   "execution_count": 3,
   "id": "22e94648",
   "metadata": {},
   "outputs": [
    {
     "name": "stdout",
     "output_type": "stream",
     "text": [
      "display is running\n",
      "show is running...........\n"
     ]
    }
   ],
   "source": [
    "def show(fun):\n",
    "    fun()\n",
    "    print(\"show is running...........\")\n",
    "def display():\n",
    "    print(\"display is running\")\n",
    "show(display)    "
   ]
  },
  {
   "cell_type": "code",
   "execution_count": null,
   "id": "5d94dffe",
   "metadata": {},
   "outputs": [],
   "source": []
  },
  {
   "cell_type": "code",
   "execution_count": null,
   "id": "e87a7c1c",
   "metadata": {},
   "outputs": [],
   "source": []
  }
 ],
 "metadata": {
  "kernelspec": {
   "display_name": "Python 3 (ipykernel)",
   "language": "python",
   "name": "python3"
  },
  "language_info": {
   "codemirror_mode": {
    "name": "ipython",
    "version": 3
   },
   "file_extension": ".py",
   "mimetype": "text/x-python",
   "name": "python",
   "nbconvert_exporter": "python",
   "pygments_lexer": "ipython3",
   "version": "3.9.12"
  }
 },
 "nbformat": 4,
 "nbformat_minor": 5
}
