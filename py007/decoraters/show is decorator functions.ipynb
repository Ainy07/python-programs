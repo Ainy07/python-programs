{
 "cells": [
  {
   "cell_type": "code",
   "execution_count": 11,
   "id": "a9975217",
   "metadata": {},
   "outputs": [],
   "source": [
    "def show(fun):\n",
    "    def inner():\n",
    "        print(\"inner start is running\")\n",
    "        fun()\n",
    "    print(\"inner end\")\n",
    "    return inner    "
   ]
  },
  {
   "cell_type": "code",
   "execution_count": null,
   "id": "e0c5ad24",
   "metadata": {},
   "outputs": [],
   "source": [
    "\n"
   ]
  },
  {
   "cell_type": "code",
   "execution_count": null,
   "id": "e4030793",
   "metadata": {},
   "outputs": [],
   "source": []
  }
 ],
 "metadata": {
  "kernelspec": {
   "display_name": "Python 3 (ipykernel)",
   "language": "python",
   "name": "python3"
  },
  "language_info": {
   "codemirror_mode": {
    "name": "ipython",
    "version": 3
   },
   "file_extension": ".py",
   "mimetype": "text/x-python",
   "name": "python",
   "nbconvert_exporter": "python",
   "pygments_lexer": "ipython3",
   "version": "3.9.12"
  }
 },
 "nbformat": 4,
 "nbformat_minor": 5
}
