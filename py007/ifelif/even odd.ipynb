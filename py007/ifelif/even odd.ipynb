{
 "cells": [
  {
   "cell_type": "code",
   "execution_count": 2,
   "id": "c3e384b4",
   "metadata": {},
   "outputs": [
    {
     "name": "stdout",
     "output_type": "stream",
     "text": [
      "postive\n"
     ]
    }
   ],
   "source": [
    "#wrong type\n",
    "a=10\n",
    "if a>=0:\n",
    "    print(\"postive\")\n",
    "else:\n",
    "    if a%2==0:\n",
    "        print(\"even negtive\")\n",
    "    else:\n",
    "        print(\"odd negtive\")\n",
    "        "
   ]
  },
  {
   "cell_type": "code",
   "execution_count": 5,
   "id": "fb94f11f",
   "metadata": {},
   "outputs": [
    {
     "name": "stdout",
     "output_type": "stream",
     "text": [
      "even negtive\n"
     ]
    }
   ],
   "source": [
    "#right type\n",
    "a=-100\n",
    "if a>=0:\n",
    "    print(\"postive\")\n",
    "elif a%2==0:\n",
    "    print(\"even negtive\")\n",
    "else:\n",
    "    print(\"odd negtive\")"
   ]
  },
  {
   "cell_type": "code",
   "execution_count": null,
   "id": "5d37089b",
   "metadata": {},
   "outputs": [],
   "source": []
  }
 ],
 "metadata": {
  "kernelspec": {
   "display_name": "Python 3 (ipykernel)",
   "language": "python",
   "name": "python3"
  },
  "language_info": {
   "codemirror_mode": {
    "name": "ipython",
    "version": 3
   },
   "file_extension": ".py",
   "mimetype": "text/x-python",
   "name": "python",
   "nbconvert_exporter": "python",
   "pygments_lexer": "ipython3",
   "version": "3.9.12"
  }
 },
 "nbformat": 4,
 "nbformat_minor": 5
}
