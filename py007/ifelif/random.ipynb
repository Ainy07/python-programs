{
 "cells": [
  {
   "cell_type": "code",
   "execution_count": 6,
   "id": "8d0b34a0",
   "metadata": {},
   "outputs": [
    {
     "name": "stdout",
     "output_type": "stream",
     "text": [
      "very high\n"
     ]
    }
   ],
   "source": [
    "import random\n",
    "a=random.random()\n",
    "a=a*100\n",
    "a=int(a)\n",
    "if a>0 and a<=10:\n",
    "    print(\"very low\")\n",
    "elif a>10 and a<=20 :\n",
    "    print(\"low\")\n",
    "elif a>20 and a<=30:\n",
    "    print(\"normal\")\n",
    "elif a>30 and a<=40:\n",
    "    print(\"high\")\n",
    "elif a>40 and a<=50:\n",
    "    print(\"very high\")\n",
    "else:\n",
    "    print(\"denger....\")"
   ]
  },
  {
   "cell_type": "code",
   "execution_count": null,
   "id": "7a737a7e",
   "metadata": {},
   "outputs": [],
   "source": []
  }
 ],
 "metadata": {
  "kernelspec": {
   "display_name": "Python 3 (ipykernel)",
   "language": "python",
   "name": "python3"
  },
  "language_info": {
   "codemirror_mode": {
    "name": "ipython",
    "version": 3
   },
   "file_extension": ".py",
   "mimetype": "text/x-python",
   "name": "python",
   "nbconvert_exporter": "python",
   "pygments_lexer": "ipython3",
   "version": "3.9.12"
  }
 },
 "nbformat": 4,
 "nbformat_minor": 5
}
