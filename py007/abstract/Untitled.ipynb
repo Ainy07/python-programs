{
 "cells": [
  {
   "cell_type": "code",
   "execution_count": 2,
   "id": "f64b19eb",
   "metadata": {},
   "outputs": [
    {
     "name": "stdout",
     "output_type": "stream",
     "text": [
      "rules by Rbi\n",
      "deposit in Rbi\n",
      "withdraw from Rbi\n"
     ]
    }
   ],
   "source": [
    "from abc import ABC,abstractmethod\n",
    "class Rbi(ABC):\n",
    "    def rules(Self):\n",
    "        print('rules by Rbi')\n",
    "    @abstractmethod\n",
    "    def deposit(self):\n",
    "        pass\n",
    "    def withdraw(self):\n",
    "        pass\n",
    "class Sbi(Rbi):\n",
    "    def welcome(self):\n",
    "        print(\"welcome to Rbi\")\n",
    "    def deposit(self):\n",
    "        print(\"deposit in Rbi\")\n",
    "    def withdraw(self):\n",
    "        print(\"withdraw from Rbi\")\n",
    "#r=Rbi()        \n",
    "s=Sbi()\n",
    "s.rules()\n",
    "s.deposit()\n",
    "s.withdraw()"
   ]
  },
  {
   "cell_type": "code",
   "execution_count": null,
   "id": "7c1fccf6",
   "metadata": {},
   "outputs": [],
   "source": []
  }
 ],
 "metadata": {
  "kernelspec": {
   "display_name": "Python 3 (ipykernel)",
   "language": "python",
   "name": "python3"
  },
  "language_info": {
   "codemirror_mode": {
    "name": "ipython",
    "version": 3
   },
   "file_extension": ".py",
   "mimetype": "text/x-python",
   "name": "python",
   "nbconvert_exporter": "python",
   "pygments_lexer": "ipython3",
   "version": "3.9.12"
  }
 },
 "nbformat": 4,
 "nbformat_minor": 5
}
