{
 "cells": [
  {
   "cell_type": "code",
   "execution_count": 4,
   "id": "eaa48f21",
   "metadata": {},
   "outputs": [
    {
     "name": "stdout",
     "output_type": "stream",
     "text": [
      "A \r\n",
      "B C \r\n",
      "D E F \r\n",
      "G H I J \r\n",
      "K L M N O \r\n",
      "P Q R S T U \r\n",
      "V W X Y Z [ \\ \r\n"
     ]
    }
   ],
   "source": [
    "def contalpha (n):\n",
    "    num=65\n",
    "    for i in range(0,n):\n",
    "        for i in range(0,i+1):\n",
    "            ch=chr(num)\n",
    "            print(ch,end=\" \")\n",
    "            num=num+1\n",
    "        print(\"\\r\") \n",
    "n=7\n",
    "contalpha(n)\n"
   ]
  }
 ],
 "metadata": {
  "kernelspec": {
   "display_name": "Python 3 (ipykernel)",
   "language": "python",
   "name": "python3"
  },
  "language_info": {
   "codemirror_mode": {
    "name": "ipython",
    "version": 3
   },
   "file_extension": ".py",
   "mimetype": "text/x-python",
   "name": "python",
   "nbconvert_exporter": "python",
   "pygments_lexer": "ipython3",
   "version": "3.9.12"
  }
 },
 "nbformat": 4,
 "nbformat_minor": 5
}
