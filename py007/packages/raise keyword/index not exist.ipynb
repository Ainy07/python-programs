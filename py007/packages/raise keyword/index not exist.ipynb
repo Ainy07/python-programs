{
 "cells": [
  {
   "cell_type": "code",
   "execution_count": 2,
   "id": "7e7c463c",
   "metadata": {},
   "outputs": [
    {
     "name": "stdout",
     "output_type": "stream",
     "text": [
      "Index not exist\n"
     ]
    }
   ],
   "source": [
    "try:\n",
    "    a=[]\n",
    "    t=10/2#pause\n",
    "    try:\n",
    "        a[0]=t #pause\n",
    "        print(a[0])\n",
    "    except ZeroDivisionError:\n",
    "        print(\"unable to division by exist\")\n",
    "except IndexError:\n",
    "    print(\"Index not exist\")"
   ]
  },
  {
   "cell_type": "code",
   "execution_count": null,
   "id": "8ac274f6",
   "metadata": {},
   "outputs": [],
   "source": []
  }
 ],
 "metadata": {
  "kernelspec": {
   "display_name": "Python 3 (ipykernel)",
   "language": "python",
   "name": "python3"
  },
  "language_info": {
   "codemirror_mode": {
    "name": "ipython",
    "version": 3
   },
   "file_extension": ".py",
   "mimetype": "text/x-python",
   "name": "python",
   "nbconvert_exporter": "python",
   "pygments_lexer": "ipython3",
   "version": "3.9.12"
  }
 },
 "nbformat": 4,
 "nbformat_minor": 5
}
