{
 "cells": [
  {
   "cell_type": "code",
   "execution_count": 3,
   "id": "8b7cd3b8",
   "metadata": {},
   "outputs": [
    {
     "name": "stdout",
     "output_type": "stream",
     "text": [
      "enter first number10\n",
      "enter second number20\n",
      "div is 0.5\n"
     ]
    }
   ],
   "source": [
    "a=int(input(\"enter first number\"))\n",
    "b=int(input(\"enter second number\"))\n",
    "c=a/b\n",
    "print(\"div is\",c)"
   ]
  },
  {
   "cell_type": "code",
   "execution_count": 5,
   "id": "e9c9b6fb",
   "metadata": {},
   "outputs": [
    {
     "name": "stdout",
     "output_type": "stream",
     "text": [
      "enter first number10\n",
      "enter second number10\n",
      "div is 1.0\n",
      "else block is running\n",
      "always excute\n"
     ]
    }
   ],
   "source": [
    "a=int(input(\"enter first number\"))\n",
    "b=int(input(\"enter second number\"))\n",
    "try:\n",
    "    c=a/b #pause\n",
    "    print(\"div is\",c)\n",
    "except:\n",
    "    print(\"unable to divisable by zero\")\n",
    "else:\n",
    "    print(\"else block is running\")\n",
    "finally:\n",
    "    print(\"always excute\")"
   ]
  },
  {
   "cell_type": "code",
   "execution_count": null,
   "id": "ff3d4dec",
   "metadata": {},
   "outputs": [],
   "source": []
  }
 ],
 "metadata": {
  "kernelspec": {
   "display_name": "Python 3 (ipykernel)",
   "language": "python",
   "name": "python3"
  },
  "language_info": {
   "codemirror_mode": {
    "name": "ipython",
    "version": 3
   },
   "file_extension": ".py",
   "mimetype": "text/x-python",
   "name": "python",
   "nbconvert_exporter": "python",
   "pygments_lexer": "ipython3",
   "version": "3.9.12"
  }
 },
 "nbformat": 4,
 "nbformat_minor": 5
}
