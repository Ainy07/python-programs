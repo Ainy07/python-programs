{
 "cells": [
  {
   "cell_type": "code",
   "execution_count": 1,
   "id": "efca624f",
   "metadata": {},
   "outputs": [
    {
     "name": "stdout",
     "output_type": "stream",
     "text": [
      "25\n"
     ]
    }
   ],
   "source": [
    "x=lambda a:a**2\n",
    "print(x(5))"
   ]
  },
  {
   "cell_type": "code",
   "execution_count": 2,
   "id": "123fddcc",
   "metadata": {},
   "outputs": [
    {
     "name": "stdout",
     "output_type": "stream",
     "text": [
      "200\n"
     ]
    }
   ],
   "source": [
    "x=lambda a,b:a*b\n",
    "print(x(10,20))"
   ]
  },
  {
   "cell_type": "code",
   "execution_count": 3,
   "id": "2d6c8d69",
   "metadata": {},
   "outputs": [
    {
     "name": "stdout",
     "output_type": "stream",
     "text": [
      "True\n"
     ]
    }
   ],
   "source": [
    "x=lambda a,b:a>b\n",
    "print(x(20,10))"
   ]
  },
  {
   "cell_type": "code",
   "execution_count": null,
   "id": "ed524c5c",
   "metadata": {},
   "outputs": [],
   "source": []
  }
 ],
 "metadata": {
  "kernelspec": {
   "display_name": "Python 3 (ipykernel)",
   "language": "python",
   "name": "python3"
  },
  "language_info": {
   "codemirror_mode": {
    "name": "ipython",
    "version": 3
   },
   "file_extension": ".py",
   "mimetype": "text/x-python",
   "name": "python",
   "nbconvert_exporter": "python",
   "pygments_lexer": "ipython3",
   "version": "3.9.12"
  }
 },
 "nbformat": 4,
 "nbformat_minor": 5
}
