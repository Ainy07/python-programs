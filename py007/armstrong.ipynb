{
 "cells": [
  {
   "cell_type": "code",
   "execution_count": 3,
   "id": "66add480",
   "metadata": {},
   "outputs": [
    {
     "name": "stdout",
     "output_type": "stream",
     "text": [
      "enter a number1231\n",
      "1231 is not arm strong\n"
     ]
    }
   ],
   "source": [
    "n=input(\"enter a number\")\n",
    "s=len(n)\n",
    "n=int(n)\n",
    "ar=0\n",
    "t=n\n",
    "while n>0:\n",
    "    r=n%10\n",
    "    ar=ar+r**s\n",
    "    n=n//10\n",
    "if ar==t:\n",
    "    print(t,\"is arm strong\")\n",
    "else:\n",
    "    print(t,\"is not arm strong\")"
   ]
  }
 ],
 "metadata": {
  "kernelspec": {
   "display_name": "Python 3 (ipykernel)",
   "language": "python",
   "name": "python3"
  },
  "language_info": {
   "codemirror_mode": {
    "name": "ipython",
    "version": 3
   },
   "file_extension": ".py",
   "mimetype": "text/x-python",
   "name": "python",
   "nbconvert_exporter": "python",
   "pygments_lexer": "ipython3",
   "version": "3.9.12"
  }
 },
 "nbformat": 4,
 "nbformat_minor": 5
}
