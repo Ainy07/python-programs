{
 "cells": [
  {
   "cell_type": "code",
   "execution_count": null,
   "id": "5e44052a",
   "metadata": {},
   "outputs": [],
   "source": [
    "a=(10,20,30,40,10,20)\n",
    "print(a.count(10))\n",
    "print(a.index(20))\n",
    "print(\"index wise traversing\")\n",
    "for i in range(len(a)):\n",
    "    print(a[i])\n",
    "print(\"element wise traversing\")\n",
    "for i in a:\n",
    "    print(i)"
   ]
  }
 ],
 "metadata": {
  "kernelspec": {
   "display_name": "Python 3 (ipykernel)",
   "language": "python",
   "name": "python3"
  },
  "language_info": {
   "codemirror_mode": {
    "name": "ipython",
    "version": 3
   },
   "file_extension": ".py",
   "mimetype": "text/x-python",
   "name": "python",
   "nbconvert_exporter": "python",
   "pygments_lexer": "ipython3",
   "version": "3.9.12"
  }
 },
 "nbformat": 4,
 "nbformat_minor": 5
}
