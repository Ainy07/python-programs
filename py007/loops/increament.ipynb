{
 "cells": [
  {
   "cell_type": "code",
   "execution_count": 1,
   "id": "d5bb3d48",
   "metadata": {},
   "outputs": [
    {
     "name": "stdout",
     "output_type": "stream",
     "text": [
      "1\n",
      "2\n",
      "3\n",
      "4\n",
      "5\n",
      "6\n",
      "7\n",
      "8\n",
      "9\n",
      "10\n",
      "after loop statement\n"
     ]
    }
   ],
   "source": [
    "for i in range(1,11,1):\n",
    "    print(i)\n",
    "print(\"after loop statement\")    "
   ]
  },
  {
   "cell_type": "code",
   "execution_count": 2,
   "id": "44fae523",
   "metadata": {},
   "outputs": [
    {
     "name": "stdout",
     "output_type": "stream",
     "text": [
      "1\n",
      "3\n",
      "5\n",
      "7\n",
      "9\n",
      "after loop statement\n"
     ]
    }
   ],
   "source": [
    "for i in range(1,11,2):\n",
    "    print(i)\n",
    "print(\"after loop statement\")    "
   ]
  },
  {
   "cell_type": "code",
   "execution_count": 3,
   "id": "7487a252",
   "metadata": {},
   "outputs": [
    {
     "name": "stdout",
     "output_type": "stream",
     "text": [
      "2\n",
      "4\n",
      "6\n",
      "8\n",
      "10\n",
      "12\n",
      "14\n",
      "16\n",
      "18\n",
      "20\n",
      "after loop statement\n"
     ]
    }
   ],
   "source": [
    "for i in range(2,21,2):\n",
    "    print(i)\n",
    "print(\"after loop statement\")    "
   ]
  },
  {
   "cell_type": "code",
   "execution_count": 4,
   "id": "dac78aeb",
   "metadata": {},
   "outputs": [
    {
     "name": "stdout",
     "output_type": "stream",
     "text": [
      "12\n",
      "19\n",
      "26\n",
      "33\n",
      "40\n",
      "47\n",
      "after loop statement\n"
     ]
    }
   ],
   "source": [
    "for i in range(12,51,7):\n",
    "    print(i)\n",
    "print(\"after loop statement\")    "
   ]
  },
  {
   "cell_type": "code",
   "execution_count": 5,
   "id": "5e2b7df2",
   "metadata": {},
   "outputs": [
    {
     "name": "stdout",
     "output_type": "stream",
     "text": [
      "enter a number4\n",
      "4\n",
      "44\n",
      "444\n",
      "4444\n",
      "44444\n",
      "444444\n",
      "4444444\n",
      "44444444\n",
      "444444444\n",
      "4444444444\n",
      "after loop statement\n"
     ]
    }
   ],
   "source": [
    "n=input(\"enter a number\")\n",
    "for i in range(1,11):\n",
    "    print(i*n)\n",
    "print(\"after loop statement\")    "
   ]
  },
  {
   "cell_type": "code",
   "execution_count": 4,
   "id": "d1d6e284",
   "metadata": {},
   "outputs": [
    {
     "name": "stdout",
     "output_type": "stream",
     "text": [
      "enter 2 numbers20\n",
      "20\n",
      "40\n",
      "60\n",
      "80\n",
      "100\n",
      "120\n",
      "140\n",
      "160\n",
      "180\n",
      "200\n",
      "after loop statement\n"
     ]
    }
   ],
   "source": [
    "n=int(input(\"enter 2 numbers\"))\n",
    "for i in range(n,n*10+1,n):\n",
    "    print(i)\n",
    "print(\"after loop statement\")    "
   ]
  },
  {
   "cell_type": "code",
   "execution_count": 5,
   "id": "29d4d34a",
   "metadata": {},
   "outputs": [
    {
     "name": "stdout",
     "output_type": "stream",
     "text": [
      "start point1\n",
      "end point10\n",
      "1\n",
      "2\n",
      "3\n",
      "4\n",
      "5\n",
      "6\n",
      "7\n",
      "8\n",
      "9\n",
      "10\n",
      "after loop statement\n"
     ]
    }
   ],
   "source": [
    "n=int(input(\"start point\"))\n",
    "n1=int(input(\"end point\"))\n",
    "for i in range(n,n1+1):\n",
    "    print(i)\n",
    "print(\"after loop statement\")    "
   ]
  },
  {
   "cell_type": "code",
   "execution_count": 6,
   "id": "18e923e6",
   "metadata": {},
   "outputs": [
    {
     "name": "stdout",
     "output_type": "stream",
     "text": [
      "start point1\n",
      "end point10\n",
      "jump2\n",
      "1\n",
      "3\n",
      "5\n",
      "7\n",
      "9\n",
      "after loop statement\n"
     ]
    }
   ],
   "source": [
    "n=int(input(\"start point\"))\n",
    "n1=int(input(\"end point\"))\n",
    "n2=int(input(\"jump\"))\n",
    "for i in range(n,n1+1,n2):\n",
    "    print(i)\n",
    "print(\"after loop statement\")    "
   ]
  },
  {
   "cell_type": "code",
   "execution_count": null,
   "id": "5f241045",
   "metadata": {},
   "outputs": [],
   "source": []
  }
 ],
 "metadata": {
  "kernelspec": {
   "display_name": "Python 3 (ipykernel)",
   "language": "python",
   "name": "python3"
  },
  "language_info": {
   "codemirror_mode": {
    "name": "ipython",
    "version": 3
   },
   "file_extension": ".py",
   "mimetype": "text/x-python",
   "name": "python",
   "nbconvert_exporter": "python",
   "pygments_lexer": "ipython3",
   "version": "3.9.12"
  }
 },
 "nbformat": 4,
 "nbformat_minor": 5
}
