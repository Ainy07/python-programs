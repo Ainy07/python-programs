{
 "cells": [
  {
   "cell_type": "code",
   "execution_count": 4,
   "id": "7e1fa299",
   "metadata": {},
   "outputs": [
    {
     "name": "stdout",
     "output_type": "stream",
     "text": [
      "enter number 678\n",
      "Revere Number  876\n"
     ]
    }
   ],
   "source": [
    "n = int(input(\"enter number \"))\n",
    "rn = 0\n",
    "while n > 0:\n",
    "    reminder = n % 10\n",
    "    rn = (rn * 10) + reminder\n",
    "    n = n // 10\n",
    "print(\"Revere Number \", rn)"
   ]
  },
  {
   "cell_type": "code",
   "execution_count": null,
   "id": "f6080c7b",
   "metadata": {},
   "outputs": [],
   "source": []
  },
  {
   "cell_type": "code",
   "execution_count": null,
   "id": "2ac4b119",
   "metadata": {},
   "outputs": [],
   "source": []
  }
 ],
 "metadata": {
  "kernelspec": {
   "display_name": "Python 3 (ipykernel)",
   "language": "python",
   "name": "python3"
  },
  "language_info": {
   "codemirror_mode": {
    "name": "ipython",
    "version": 3
   },
   "file_extension": ".py",
   "mimetype": "text/x-python",
   "name": "python",
   "nbconvert_exporter": "python",
   "pygments_lexer": "ipython3",
   "version": "3.9.12"
  }
 },
 "nbformat": 4,
 "nbformat_minor": 5
}
