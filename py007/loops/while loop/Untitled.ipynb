{
 "cells": [
  {
   "cell_type": "code",
   "execution_count": 2,
   "id": "b283d620",
   "metadata": {},
   "outputs": [
    {
     "name": "stdout",
     "output_type": "stream",
     "text": [
      "1\n",
      "2\n",
      "3\n",
      "4\n",
      "5\n",
      "6\n",
      "7\n",
      "8\n",
      "9\n",
      "10\n",
      "after loop statement\n"
     ]
    }
   ],
   "source": [
    "i=1\n",
    "while i<=10:\n",
    "    print(i)\n",
    "    i=i+1\n",
    "print('after loop statement')    "
   ]
  },
  {
   "cell_type": "code",
   "execution_count": 3,
   "id": "e7266817",
   "metadata": {},
   "outputs": [
    {
     "name": "stdout",
     "output_type": "stream",
     "text": [
      "2\n",
      "4\n",
      "6\n",
      "8\n",
      "10\n",
      "after loop statement\n"
     ]
    }
   ],
   "source": [
    "i=2\n",
    "while i<=10:\n",
    "    print(i)\n",
    "    i=i+2\n",
    "print(\"after loop statement\")    "
   ]
  },
  {
   "cell_type": "code",
   "execution_count": 7,
   "id": "bf634761",
   "metadata": {},
   "outputs": [
    {
     "name": "stdout",
     "output_type": "stream",
     "text": [
      "emter a number 12\n",
      "12\n",
      "24\n",
      "36\n",
      "48\n",
      "60\n",
      "72\n",
      "84\n",
      "96\n",
      "108\n",
      "120\n",
      "aftre loop statement\n"
     ]
    }
   ],
   "source": [
    "n=int(input(\"emter a number \"))\n",
    "i=1\n",
    "while i <= 10:\n",
    "    print(i*n)\n",
    "    i=i+1\n",
    "print(\"aftre loop statement\")    "
   ]
  },
  {
   "cell_type": "code",
   "execution_count": 6,
   "id": "12be1ddc",
   "metadata": {},
   "outputs": [
    {
     "name": "stdout",
     "output_type": "stream",
     "text": [
      "enter a number21\n",
      "21\n",
      "42\n",
      "63\n",
      "84\n",
      "105\n",
      "126\n",
      "147\n",
      "168\n",
      "189\n",
      "210\n",
      "after loop statement\n"
     ]
    }
   ],
   "source": [
    "n=int(input(\"enter a number\"))\n",
    "i=n\n",
    "while i<=n*10:\n",
    "    print(i)\n",
    "    i=i+n\n",
    "print(\"after loop statement\")    "
   ]
  },
  {
   "cell_type": "code",
   "execution_count": 11,
   "id": "3ba55791",
   "metadata": {},
   "outputs": [
    {
     "name": "stdout",
     "output_type": "stream",
     "text": [
      "120\n"
     ]
    }
   ],
   "source": [
    "i=1\n",
    "j=i\n",
    "while i<=5:\n",
    "    j=j*i\n",
    "    i=i+1\n",
    "print(j)    "
   ]
  },
  {
   "cell_type": "code",
   "execution_count": 13,
   "id": "a755914e",
   "metadata": {},
   "outputs": [
    {
     "name": "stdout",
     "output_type": "stream",
     "text": [
      "enter a number5\n",
      "15\n"
     ]
    }
   ],
   "source": [
    "i=1\n",
    "j=0\n",
    "n=int(input(\"enter a number\"))\n",
    "while i<=n:\n",
    "    j=j+i\n",
    "    i=i+1\n",
    "print(j)"
   ]
  },
  {
   "cell_type": "code",
   "execution_count": null,
   "id": "61466f28",
   "metadata": {},
   "outputs": [],
   "source": []
  }
 ],
 "metadata": {
  "kernelspec": {
   "display_name": "Python 3 (ipykernel)",
   "language": "python",
   "name": "python3"
  },
  "language_info": {
   "codemirror_mode": {
    "name": "ipython",
    "version": 3
   },
   "file_extension": ".py",
   "mimetype": "text/x-python",
   "name": "python",
   "nbconvert_exporter": "python",
   "pygments_lexer": "ipython3",
   "version": "3.9.12"
  }
 },
 "nbformat": 4,
 "nbformat_minor": 5
}
