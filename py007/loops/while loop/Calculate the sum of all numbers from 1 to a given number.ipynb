{
 "cells": [
  {
   "cell_type": "code",
   "execution_count": 2,
   "id": "4e74ef4e",
   "metadata": {},
   "outputs": [
    {
     "name": "stdout",
     "output_type": "stream",
     "text": [
      "enter number10\n",
      "sum is 55\n"
     ]
    }
   ],
   "source": [
    "s=0\n",
    "n=int(input(\"enter number\"))\n",
    "for i in range(1,n+1,1):\n",
    "    s+=i\n",
    "print(\"sum is\",s)    "
   ]
  },
  {
   "cell_type": "code",
   "execution_count": null,
   "id": "90bea2b7",
   "metadata": {},
   "outputs": [],
   "source": []
  },
  {
   "cell_type": "code",
   "execution_count": null,
   "id": "48da6a07",
   "metadata": {},
   "outputs": [],
   "source": []
  }
 ],
 "metadata": {
  "kernelspec": {
   "display_name": "Python 3 (ipykernel)",
   "language": "python",
   "name": "python3"
  },
  "language_info": {
   "codemirror_mode": {
    "name": "ipython",
    "version": 3
   },
   "file_extension": ".py",
   "mimetype": "text/x-python",
   "name": "python",
   "nbconvert_exporter": "python",
   "pygments_lexer": "ipython3",
   "version": "3.9.12"
  }
 },
 "nbformat": 4,
 "nbformat_minor": 5
}
