{
 "cells": [
  {
   "cell_type": "code",
   "execution_count": 1,
   "id": "d0df0953",
   "metadata": {},
   "outputs": [
    {
     "name": "stdout",
     "output_type": "stream",
     "text": [
      "10\n",
      "20\n",
      "30\n",
      "40\n",
      "50\n",
      "after loop statement\n"
     ]
    }
   ],
   "source": [
    "a=[10,20,30,40,50]\n",
    "for i in a:\n",
    "    print(i)\n",
    "print(\"after loop statement\")    "
   ]
  },
  {
   "cell_type": "code",
   "execution_count": 4,
   "id": "b5d4f861",
   "metadata": {},
   "outputs": [
    {
     "name": "stdout",
     "output_type": "stream",
     "text": [
      "h\n",
      "e\n",
      "l\n",
      "l\n",
      "o\n"
     ]
    }
   ],
   "source": [
    "a='hello all'\n",
    "for i in a:\n",
    "    if i==\" \":\n",
    "        break\n",
    "    print(i)    "
   ]
  },
  {
   "cell_type": "code",
   "execution_count": 3,
   "id": "d64d870d",
   "metadata": {},
   "outputs": [
    {
     "name": "stdout",
     "output_type": "stream",
     "text": [
      "h\n",
      "e\n",
      "l\n",
      "l\n",
      "o\n",
      " \n",
      "a\n",
      "l\n",
      "l\n"
     ]
    }
   ],
   "source": [
    "a='hello all'\n",
    "for i in a:\n",
    "    print(i)"
   ]
  },
  {
   "cell_type": "code",
   "execution_count": 5,
   "id": "b907455b",
   "metadata": {},
   "outputs": [
    {
     "name": "stdout",
     "output_type": "stream",
     "text": [
      "h\n",
      "e\n",
      "l\n",
      "l\n",
      "o\n"
     ]
    }
   ],
   "source": [
    "a='hello all'\n",
    "for i in a:\n",
    "    if i==\" \":\n",
    "        break\n",
    "    print(i)    \n",
    "else:\n",
    "    print(\"else block is running\")"
   ]
  },
  {
   "cell_type": "code",
   "execution_count": null,
   "id": "91eaa2a4",
   "metadata": {},
   "outputs": [],
   "source": [
    "a='hello all'\n",
    "for i in a:\n",
    "    print(i)\n",
    "else:\n",
    "    print(\"else block \")"
   ]
  }
 ],
 "metadata": {
  "kernelspec": {
   "display_name": "Python 3 (ipykernel)",
   "language": "python",
   "name": "python3"
  },
  "language_info": {
   "codemirror_mode": {
    "name": "ipython",
    "version": 3
   },
   "file_extension": ".py",
   "mimetype": "text/x-python",
   "name": "python",
   "nbconvert_exporter": "python",
   "pygments_lexer": "ipython3",
   "version": "3.9.12"
  }
 },
 "nbformat": 4,
 "nbformat_minor": 5
}
