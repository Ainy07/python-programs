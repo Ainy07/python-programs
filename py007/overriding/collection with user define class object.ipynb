{
 "cells": [
  {
   "cell_type": "code",
   "execution_count": 4,
   "id": "1a149c01",
   "metadata": {},
   "outputs": [
    {
     "name": "stdout",
     "output_type": "stream",
     "text": [
      "enter number of object3\n",
      "enter details for emp  1\n",
      "enter empno101\n",
      "enter emp nameainy\n",
      "enter sal29000000\n",
      "enter jobdeveloper\n",
      "enter details for emp  2\n",
      "enter empno102\n",
      "enter emp namehimanshu\n",
      "enter sal100000000\n",
      "enter jobdegine\n",
      "enter details for emp  3\n",
      "enter empno103\n",
      "enter emp nameaaishi\n",
      "enter sal200000\n",
      "enter jobbsc ele\n",
      "101 ainy 29000000 developer\n",
      "102 himanshu 100000000 degine\n",
      "103 aaishi 200000 bsc ele\n"
     ]
    }
   ],
   "source": [
    "class Emp:\n",
    "    empno:int\n",
    "    ename:str\n",
    "    sal:int\n",
    "    job:str\n",
    "    def __init__(self,empno,ename,sal,job):\n",
    "        self.empno=empno\n",
    "        self.ename=ename\n",
    "        self.sal=sal\n",
    "        self.job=job\n",
    "    def show(self):\n",
    "        print(self.empno,self.ename,self.sal,self.job)\n",
    "s=int(input(\"enter number of object\"))\n",
    "a=[]\n",
    "for i in range(1,s+1):\n",
    "    print(\"enter details for emp \",i)\n",
    "    eno=int(input(\"enter empno\"))\n",
    "    enm=input(\"enter emp name\")\n",
    "    sal=int(input(\"enter sal\"))\n",
    "    job=input(\"enter job\")\n",
    "    e=Emp(eno,enm,sal,job)\n",
    "    a.append(e)\n",
    "for i in a:\n",
    "    i.show()"
   ]
  },
  {
   "cell_type": "code",
   "execution_count": null,
   "id": "4c71e843",
   "metadata": {},
   "outputs": [],
   "source": []
  },
  {
   "cell_type": "code",
   "execution_count": null,
   "id": "bcc1d557",
   "metadata": {},
   "outputs": [],
   "source": [
    "# biggest sal\n",
    "class Emp:\n",
    "    empno:int\n",
    "    ename:str\n",
    "    sal:int\n",
    "    job:str\n",
    "    def __init__(self,empno,ename,sal,job):\n",
    "        self.empno=empno\n",
    "        self.ename=ename\n",
    "        self.sal=sal\n",
    "        self.job=job\n",
    "    def show(self):\n",
    "        print(self.empno,self.ename,self.sal,self.job)\n",
    "s=int(input(\"enter number of object\"))\n",
    "a=[]\n",
    "for i in range(1,s+1):\n",
    "    print(\"enter emp detail\",i)\n",
    "    eno=int(input(\"enter empno\"))\n",
    "    enm=input(\"enter ename\")\n",
    "    sal=int(input(\"enter sal\"))\n",
    "    job=input(\"enter job\")\n",
    "    e=Emp(eno,enm,sal,job)\n",
    "    a.append(e)\n",
    "b=0\n",
    "o=None\n",
    "for i in a:\n",
    "    if i.sal>b:\n",
    "        b=i.sal\n",
    "        o=i\n",
    "o.show()        "
   ]
  },
  {
   "cell_type": "code",
   "execution_count": null,
   "id": "27fe74ca",
   "metadata": {},
   "outputs": [],
   "source": [
    "# job=manager\n",
    "class Emp:\n",
    "    empno:int\n",
    "    ename:str\n",
    "    sal:int\n",
    "    job:str\n",
    "    def __init__(self,empno,ename,sal,job):\n",
    "        self.empno=empno\n",
    "        self.ename=ename\n",
    "        self.sal=sal\n",
    "        self.job=job\n",
    "    def show(self):\n",
    "        print(self.empno,self.ename,self.sal,self.job)\n",
    "s=int(input(\"enter number of object\"))\n",
    "a=[]\n",
    "for i in range(1,s+1):\n",
    "    print(\"enter emp detail\",i)\n",
    "    eno=int(input(\"enter empno\"))\n",
    "    enm=input(\"enter ename\")\n",
    "    sal=int(input(\"enter sal\"))\n",
    "    job=input(\"enter job\")\n",
    "    e=Emp(eno,enm,sal,job)\n",
    "    a.append(e)\n",
    "for i in a:\n",
    "    if i.job=='manager':\n",
    "        i.show()"
   ]
  },
  {
   "cell_type": "code",
   "execution_count": null,
   "id": "29a87b36",
   "metadata": {},
   "outputs": [],
   "source": []
  }
 ],
 "metadata": {
  "kernelspec": {
   "display_name": "Python 3 (ipykernel)",
   "language": "python",
   "name": "python3"
  },
  "language_info": {
   "codemirror_mode": {
    "name": "ipython",
    "version": 3
   },
   "file_extension": ".py",
   "mimetype": "text/x-python",
   "name": "python",
   "nbconvert_exporter": "python",
   "pygments_lexer": "ipython3",
   "version": "3.9.12"
  }
 },
 "nbformat": 4,
 "nbformat_minor": 5
}
