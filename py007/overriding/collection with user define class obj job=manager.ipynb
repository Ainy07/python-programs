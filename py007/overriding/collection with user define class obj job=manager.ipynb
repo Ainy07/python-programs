{
 "cells": [
  {
   "cell_type": "code",
   "execution_count": 1,
   "id": "d119fd7a",
   "metadata": {},
   "outputs": [
    {
     "name": "stdout",
     "output_type": "stream",
     "text": [
      "enter number of object3\n",
      "enter emp detail 1\n",
      "enter empno101\n",
      "enter enameainy\n",
      "enter sal83274\n",
      "enter jobmanager\n",
      "enter emp detail 2\n",
      "enter empno102\n",
      "enter enamehimanshu\n",
      "enter sal92487\n",
      "enter jobmanager\n",
      "enter emp detail 3\n",
      "enter empno103\n",
      "enter enameaaishi\n",
      "enter sal09458\n",
      "enter jobkjhrsd\n",
      "101 ainy 83274 manager\n",
      "102 himanshu 92487 manager\n"
     ]
    }
   ],
   "source": [
    "# job=manager\n",
    "class Emp:\n",
    "    empno:int\n",
    "    ename:str\n",
    "    sal:int\n",
    "    job:str\n",
    "    def __init__(self,empno,ename,sal,job):\n",
    "        self.empno=empno\n",
    "        self.ename=ename\n",
    "        self.sal=sal\n",
    "        self.job=job\n",
    "    def show(self):\n",
    "        print(self.empno,self.ename,self.sal,self.job)\n",
    "s=int(input(\"enter number of object\"))\n",
    "a=[]\n",
    "for i in range(1,s+1):\n",
    "    print(\"enter emp detail\",i)\n",
    "    eno=int(input(\"enter empno\"))\n",
    "    enm=input(\"enter ename\")\n",
    "    sal=int(input(\"enter sal\"))\n",
    "    job=input(\"enter job\")\n",
    "    e=Emp(eno,enm,sal,job)\n",
    "    a.append(e)\n",
    "for i in a:\n",
    "    if i.job=='manager':\n",
    "        i.show()"
   ]
  },
  {
   "cell_type": "code",
   "execution_count": null,
   "id": "eabb1b27",
   "metadata": {},
   "outputs": [],
   "source": []
  }
 ],
 "metadata": {
  "kernelspec": {
   "display_name": "Python 3 (ipykernel)",
   "language": "python",
   "name": "python3"
  },
  "language_info": {
   "codemirror_mode": {
    "name": "ipython",
    "version": 3
   },
   "file_extension": ".py",
   "mimetype": "text/x-python",
   "name": "python",
   "nbconvert_exporter": "python",
   "pygments_lexer": "ipython3",
   "version": "3.9.12"
  }
 },
 "nbformat": 4,
 "nbformat_minor": 5
}
