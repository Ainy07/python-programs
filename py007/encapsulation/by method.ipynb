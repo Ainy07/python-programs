{
 "cells": [
  {
   "cell_type": "code",
   "execution_count": 1,
   "id": "4746048d",
   "metadata": {},
   "outputs": [
    {
     "name": "stdout",
     "output_type": "stream",
     "text": [
      "101\n",
      "ajay\n"
     ]
    }
   ],
   "source": [
    "class Emp:\n",
    "    __empno : int\n",
    "    __ename : str\n",
    "    def setEmpno(self,empno):\n",
    "        self.__empno=empno\n",
    "    def setEname (self,ename):\n",
    "        self.__ename=ename\n",
    "    def getEmpno(self):\n",
    "        return self.__empno\n",
    "    def getEname(self):\n",
    "        return self.__ename\n",
    "e=Emp()\n",
    "e.setEmpno(101)\n",
    "e.setEname(\"ajay\")\n",
    "print(e.getEmpno())\n",
    "print(e.getEname())"
   ]
  },
  {
   "cell_type": "code",
   "execution_count": null,
   "id": "4bef18da",
   "metadata": {},
   "outputs": [],
   "source": []
  }
 ],
 "metadata": {
  "kernelspec": {
   "display_name": "Python 3 (ipykernel)",
   "language": "python",
   "name": "python3"
  },
  "language_info": {
   "codemirror_mode": {
    "name": "ipython",
    "version": 3
   },
   "file_extension": ".py",
   "mimetype": "text/x-python",
   "name": "python",
   "nbconvert_exporter": "python",
   "pygments_lexer": "ipython3",
   "version": "3.9.12"
  }
 },
 "nbformat": 4,
 "nbformat_minor": 5
}
