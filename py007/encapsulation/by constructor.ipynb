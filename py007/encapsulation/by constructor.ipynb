{
 "cells": [
  {
   "cell_type": "code",
   "execution_count": 1,
   "id": "4fc4072c",
   "metadata": {},
   "outputs": [
    {
     "name": "stdout",
     "output_type": "stream",
     "text": [
      "105\n",
      "ainy\n"
     ]
    }
   ],
   "source": [
    "class Emp:\n",
    "    __empno : int\n",
    "    __ename : str\n",
    "    def __init__(self,empno,ename):\n",
    "        self.__empno=empno\n",
    "        self.__ename=ename\n",
    "    def getEmpno(self):\n",
    "        return self.__empno\n",
    "    def getEname(self):\n",
    "        return self.__ename\n",
    "e=Emp(105,\"ainy\")\n",
    "print(e.getEmpno())\n",
    "print(e.getEname())"
   ]
  },
  {
   "cell_type": "code",
   "execution_count": null,
   "id": "aff8f1d5",
   "metadata": {},
   "outputs": [],
   "source": []
  }
 ],
 "metadata": {
  "kernelspec": {
   "display_name": "Python 3 (ipykernel)",
   "language": "python",
   "name": "python3"
  },
  "language_info": {
   "codemirror_mode": {
    "name": "ipython",
    "version": 3
   },
   "file_extension": ".py",
   "mimetype": "text/x-python",
   "name": "python",
   "nbconvert_exporter": "python",
   "pygments_lexer": "ipython3",
   "version": "3.9.12"
  }
 },
 "nbformat": 4,
 "nbformat_minor": 5
}
