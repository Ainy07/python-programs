{
  "nbformat": 4,
  "nbformat_minor": 0,
  "metadata": {
    "colab": {
      "provenance": [],
      "authorship_tag": "ABX9TyPPxQUqqnhZX6WYnjTVZuHG",
      "include_colab_link": true
    },
    "kernelspec": {
      "name": "python3",
      "display_name": "Python 3"
    },
    "language_info": {
      "name": "python"
    }
  },
  "cells": [
    {
      "cell_type": "markdown",
      "metadata": {
        "id": "view-in-github",
        "colab_type": "text"
      },
      "source": [
        "<a href=\"https://colab.research.google.com/github/Ainy07/python-programs/blob/main/pandas.ipynb\" target=\"_parent\"><img src=\"https://colab.research.google.com/assets/colab-badge.svg\" alt=\"Open In Colab\"/></a>"
      ]
    },
    {
      "cell_type": "code",
      "execution_count": 19,
      "metadata": {
        "colab": {
          "base_uri": "https://localhost:8080/"
        },
        "id": "MCiuaDwGscO0",
        "outputId": "d90beb62-0526-420c-841e-a3f33551e36d"
      },
      "outputs": [
        {
          "output_type": "stream",
          "name": "stdout",
          "text": [
            "   id      Name  Age\n",
            "0   1      Ainy   25\n",
            "1   2  himanshu   29\n",
            "2   3    aaishi   24\n"
          ]
        }
      ],
      "source": [
        "#Make a Pandas DataFrame with a two-dimensional list | Python\n",
        "import pandas as pd\n",
        "data = [\n",
        "    [1 , \"Ainy\" , 25],\n",
        "    [2 , 'himanshu' , 29],\n",
        "    [3 , \"aaishi\" , 24]\n",
        "]\n",
        "dt = pd.DataFrame(data , columns=[\"id\" , \"Name\" , \"Age\"])\n",
        "print(dt)\n"
      ]
    },
    {
      "cell_type": "code",
      "source": [
        "dt[\"Country\"] = \"India\"\n",
        "print(dt)"
      ],
      "metadata": {
        "colab": {
          "base_uri": "https://localhost:8080/"
        },
        "id": "XTsZuTmItoO8",
        "outputId": "0f271acc-fe93-45f3-e415-c300899b4f0e"
      },
      "execution_count": 20,
      "outputs": [
        {
          "output_type": "stream",
          "name": "stdout",
          "text": [
            "   id      Name  Age Country\n",
            "0   1      Ainy   25   India\n",
            "1   2  himanshu   29   India\n",
            "2   3    aaishi   24   India\n"
          ]
        }
      ]
    },
    {
      "cell_type": "code",
      "source": [
        "dt['City'] = ['Delhi', 'Mumbai', 'Pune']\n",
        "print(dt)"
      ],
      "metadata": {
        "colab": {
          "base_uri": "https://localhost:8080/"
        },
        "id": "is_c1rOssfQc",
        "outputId": "cc32d75c-5d28-4d47-b40e-84103da0428c"
      },
      "execution_count": 21,
      "outputs": [
        {
          "output_type": "stream",
          "name": "stdout",
          "text": [
            "   id      Name  Age Country    City\n",
            "0   1      Ainy   25   India   Delhi\n",
            "1   2  himanshu   29   India  Mumbai\n",
            "2   3    aaishi   24   India    Pune\n"
          ]
        }
      ]
    },
    {
      "cell_type": "code",
      "source": [
        "dt.loc[len(dt)] = [4, 'David', 28, 'Bangalore', 'India']\n",
        "print(dt)"
      ],
      "metadata": {
        "colab": {
          "base_uri": "https://localhost:8080/"
        },
        "id": "BSX8w_A_tpdk",
        "outputId": "17ac02da-3d38-4a32-e92f-14bd921caa27"
      },
      "execution_count": 22,
      "outputs": [
        {
          "output_type": "stream",
          "name": "stdout",
          "text": [
            "   id      Name  Age    Country    City\n",
            "0   1      Ainy   25      India   Delhi\n",
            "1   2  himanshu   29      India  Mumbai\n",
            "2   3    aaishi   24      India    Pune\n",
            "3   4     David   28  Bangalore   India\n"
          ]
        }
      ]
    },
    {
      "cell_type": "code",
      "source": [
        "dt[\"Age Group\"] = dt[\"Age\"].apply(lambda x : \"Young\" if x < 26 else \"Adult\")\n",
        "print(dt)"
      ],
      "metadata": {
        "colab": {
          "base_uri": "https://localhost:8080/"
        },
        "id": "J5LMRpjU0R0-",
        "outputId": "fa3ac206-b335-446d-ef10-167c4c978a01"
      },
      "execution_count": 23,
      "outputs": [
        {
          "output_type": "stream",
          "name": "stdout",
          "text": [
            "   id      Name  Age    Country    City Age Group\n",
            "0   1      Ainy   25      India   Delhi     Young\n",
            "1   2  himanshu   29      India  Mumbai     Adult\n",
            "2   3    aaishi   24      India    Pune     Young\n",
            "3   4     David   28  Bangalore   India     Adult\n"
          ]
        }
      ]
    },
    {
      "cell_type": "code",
      "source": [
        "dt = dt.drop(1)\n",
        "print(dt)"
      ],
      "metadata": {
        "colab": {
          "base_uri": "https://localhost:8080/"
        },
        "id": "IK38_Fi61Axu",
        "outputId": "549d7cef-ed76-4c66-9c7e-27c66d6510c1"
      },
      "execution_count": 24,
      "outputs": [
        {
          "output_type": "stream",
          "name": "stdout",
          "text": [
            "   id    Name  Age    Country   City Age Group\n",
            "0   1    Ainy   25      India  Delhi     Young\n",
            "2   3  aaishi   24      India   Pune     Young\n",
            "3   4   David   28  Bangalore  India     Adult\n"
          ]
        }
      ]
    },
    {
      "cell_type": "code",
      "source": [
        "dt= dt[dt['Age'] > 26]\n",
        "print(dt)"
      ],
      "metadata": {
        "colab": {
          "base_uri": "https://localhost:8080/"
        },
        "id": "B8o3txIS1GcG",
        "outputId": "95426f85-6981-4226-a702-054b8412c09a"
      },
      "execution_count": 25,
      "outputs": [
        {
          "output_type": "stream",
          "name": "stdout",
          "text": [
            "   id   Name  Age    Country   City Age Group\n",
            "3   4  David   28  Bangalore  India     Adult\n"
          ]
        }
      ]
    },
    {
      "cell_type": "code",
      "source": [
        "dt = dt.reset_index(drop=True)\n",
        "print(dt)"
      ],
      "metadata": {
        "colab": {
          "base_uri": "https://localhost:8080/"
        },
        "id": "QeliPp0e1Sqm",
        "outputId": "a98456bd-9872-4155-ff15-50b0586ef6fe"
      },
      "execution_count": 26,
      "outputs": [
        {
          "output_type": "stream",
          "name": "stdout",
          "text": [
            "   id   Name  Age    Country   City Age Group\n",
            "0   4  David   28  Bangalore  India     Adult\n"
          ]
        }
      ]
    },
    {
      "cell_type": "code",
      "source": [
        "dt = dt.drop(['Age Group'], axis=1)\n",
        "\n",
        "print(dt)"
      ],
      "metadata": {
        "colab": {
          "base_uri": "https://localhost:8080/"
        },
        "id": "-6oZQMKU1iwO",
        "outputId": "eed0de42-a142-4958-8ec1-ab0658de8c80"
      },
      "execution_count": 28,
      "outputs": [
        {
          "output_type": "stream",
          "name": "stdout",
          "text": [
            "   id   Name  Age    Country   City\n",
            "0   4  David   28  Bangalore  India\n"
          ]
        }
      ]
    },
    {
      "cell_type": "code",
      "source": [
        "dt.loc[0, \"Age\"] = 26\n",
        "print(dt)"
      ],
      "metadata": {
        "colab": {
          "base_uri": "https://localhost:8080/"
        },
        "id": "UqZPxO9b3Inm",
        "outputId": "1174d7c9-fd68-47fd-fb07-15baf2357390"
      },
      "execution_count": 29,
      "outputs": [
        {
          "output_type": "stream",
          "name": "stdout",
          "text": [
            "   id   Name  Age    Country   City\n",
            "0   4  David   26  Bangalore  India\n"
          ]
        }
      ]
    },
    {
      "cell_type": "code",
      "source": [
        "#Python | Creating DataFrame from dict of narray/lists\n",
        "import pandas as pd\n",
        "data = {\n",
        "    'Name': ['Ainy', 'Riya', 'Sohan', 'Amit'],\n",
        "    'Age': [22, 24, 21, 23],\n",
        "    'City': ['Delhi', 'Mumbai', 'Pune', 'Chennai']\n",
        "}\n",
        "df = pd.DataFrame(data)\n",
        "print(df)"
      ],
      "metadata": {
        "colab": {
          "base_uri": "https://localhost:8080/"
        },
        "id": "BOkzJUNp32pH",
        "outputId": "3a7c7ca9-570a-4885-e670-c4329a2a6478"
      },
      "execution_count": 3,
      "outputs": [
        {
          "output_type": "stream",
          "name": "stdout",
          "text": [
            "    Name  Age     City\n",
            "0   Ainy   22    Delhi\n",
            "1   Riya   24   Mumbai\n",
            "2  Sohan   21     Pune\n",
            "3   Amit   23  Chennai\n"
          ]
        }
      ]
    },
    {
      "cell_type": "code",
      "source": [
        "print(len(df))\n"
      ],
      "metadata": {
        "colab": {
          "base_uri": "https://localhost:8080/"
        },
        "id": "084HiJvleB3l",
        "outputId": "b030c15a-dc9b-402d-866a-9bfb635df28d"
      },
      "execution_count": 11,
      "outputs": [
        {
          "output_type": "stream",
          "name": "stdout",
          "text": [
            "3\n"
          ]
        }
      ]
    },
    {
      "cell_type": "code",
      "source": [
        "df[\"Salary\"] = [20000, 25000, 30000]\n",
        "print(df)\n"
      ],
      "metadata": {
        "colab": {
          "base_uri": "https://localhost:8080/"
        },
        "id": "j7JgukIEee_-",
        "outputId": "68dcafb7-e482-4364-98f0-bf7a98c92939"
      },
      "execution_count": 12,
      "outputs": [
        {
          "output_type": "stream",
          "name": "stdout",
          "text": [
            "       A   B   C  Salary\n",
            "Row1  10  40  70   20000\n",
            "Row2  20  50  80   25000\n",
            "Row3  30  60  90   30000\n"
          ]
        }
      ]
    },
    {
      "cell_type": "code",
      "source": [
        "#Using NumPy Arrays\n",
        "import pandas as pd\n",
        "import numpy as np\n",
        "\n",
        "data = {\n",
        "    \"A\" : np.array([10,20,30]),\n",
        "    \"B\" : np.array([40,50,60]),\n",
        "    \"C\" : np.array([70,80,90]),\n",
        "}\n",
        "df = pd.DataFrame(data)\n",
        "print(df)\n"
      ],
      "metadata": {
        "colab": {
          "base_uri": "https://localhost:8080/"
        },
        "id": "1XA7FXawbegE",
        "outputId": "56eca87b-da0a-473a-e388-847511734b3c"
      },
      "execution_count": 4,
      "outputs": [
        {
          "output_type": "stream",
          "name": "stdout",
          "text": [
            "    A   B   C\n",
            "0  10  40  70\n",
            "1  20  50  80\n",
            "2  30  60  90\n"
          ]
        }
      ]
    },
    {
      "cell_type": "code",
      "source": [
        "df = pd.DataFrame(data , index = [\"Row1\" , \"Row2\", \"Row3\"])\n",
        "print(df)"
      ],
      "metadata": {
        "colab": {
          "base_uri": "https://localhost:8080/"
        },
        "id": "2tOp0UkscxEM",
        "outputId": "0e9bb29e-7313-4b7c-e0a1-ea95b5ff0590"
      },
      "execution_count": 5,
      "outputs": [
        {
          "output_type": "stream",
          "name": "stdout",
          "text": [
            "       A   B   C\n",
            "Row1  10  40  70\n",
            "Row2  20  50  80\n",
            "Row3  30  60  90\n"
          ]
        }
      ]
    },
    {
      "cell_type": "code",
      "source": [],
      "metadata": {
        "id": "vP5d0ZOFdSSF"
      },
      "execution_count": 14,
      "outputs": []
    }
  ]
}